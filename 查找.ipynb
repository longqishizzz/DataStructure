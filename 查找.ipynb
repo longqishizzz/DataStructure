{
 "cells": [
  {
   "cell_type": "markdown",
   "metadata": {},
   "source": [
    "## 顺序查找"
   ]
  },
  {
   "cell_type": "code",
   "execution_count": 1,
   "metadata": {},
   "outputs": [
    {
     "name": "stdout",
     "output_type": "stream",
     "text": [
      "请输入1-100中的数12\n",
      "没有这个数\n"
     ]
    }
   ],
   "source": [
    "import random\n",
    "a=input('请输入1-100中的数')\n",
    "b=[]\n",
    "for i in range(50):\n",
    "    b.append(random.randint(1,100))\n",
    "index=0\n",
    "stop=0\n",
    "for i in b:\n",
    "    index+=1\n",
    "    if i==int(a):\n",
    "        print('已找到,是第{}个数'.format(index))\n",
    "        stop=1\n",
    "        break\n",
    "if stop==0:\n",
    "    print('没有这个数')"
   ]
  },
  {
   "cell_type": "code",
   "execution_count": 1,
   "metadata": {},
   "outputs": [
    {
     "name": "stdout",
     "output_type": "stream",
     "text": [
      "请输入1-100中的数,退出请输入-1:-1\n"
     ]
    }
   ],
   "source": [
    "import random\n",
    "while True:\n",
    "    a=input('请输入1-100中的数,退出请输入-1:')\n",
    "    if a=='-1':\n",
    "        break\n",
    "    b=[]\n",
    "    for i in range(50):\n",
    "        b.append(random.randint(1,100))\n",
    "    index=0\n",
    "    stop=0\n",
    "    for i in b:\n",
    "        index+=1\n",
    "        if i==int(a):\n",
    "            print('已找到,是第{}个数'.format(index))\n",
    "            stop=1\n",
    "            break\n",
    "    if stop==0:\n",
    "        print('没有这个数')\n",
    "    "
   ]
  },
  {
   "cell_type": "markdown",
   "metadata": {},
   "source": [
    "## 二分查找"
   ]
  },
  {
   "cell_type": "markdown",
   "metadata": {},
   "source": [
    "首先数据需要先排序"
   ]
  },
  {
   "cell_type": "code",
   "execution_count": 13,
   "metadata": {},
   "outputs": [],
   "source": [
    "import random\n",
    "data=[]\n",
    "for i in range(100):\n",
    "    data.append(random.randint(1,200))\n",
    "data.sort()"
   ]
  },
  {
   "cell_type": "code",
   "execution_count": 15,
   "metadata": {},
   "outputs": [
    {
     "name": "stdout",
     "output_type": "stream",
     "text": [
      "请输入整数，若要退出请输入q，输入的值为：12\n",
      "对不起，您查找的数不在搜索范围内\n",
      "请输入整数，若要退出请输入q，输入的值为：21\n",
      "对不起，您查找的数不在搜索范围内\n",
      "请输入整数，若要退出请输入q，输入的值为：321\n",
      "对不起，您查找的数不在搜索范围内\n",
      "请输入整数，若要退出请输入q，输入的值为：32\n",
      "对不起，您查找的数不在搜索范围内\n",
      "请输入整数，若要退出请输入q，输入的值为：23\n",
      "已找到，该数的索引是10\n",
      "请输入整数，若要退出请输入q，输入的值为：q\n",
      "感谢您的使用，欢迎下次光临\n"
     ]
    }
   ],
   "source": [
    "def find_the_value(data,left_boundary,right_boundary,value):\n",
    "    global b\n",
    "    real_data=data[left_boundary:right_boundary+1]\n",
    "    mid=int((len(real_data)-1)/2)\n",
    "    if len(real_data)>=1:\n",
    "        if value==real_data[mid]:\n",
    "            print('已找到，该数的索引是{}'.format(mid+left_boundary))\n",
    "            b=1\n",
    "        if len(real_data)>=2:\n",
    "            if value>data[mid]:\n",
    "                find_the_value(data,mid+left_boundary+1,right_boundary,value)\n",
    "            if value<data[mid]:\n",
    "                find_the_value(data,left_boundary,mid+left_boundary-1,value)\n",
    "    \n",
    "while True:\n",
    "    b=0\n",
    "    a=input('请输入整数，若要退出请输入q，输入的值为：')\n",
    "    if a=='q':\n",
    "        print('感谢您的使用，欢迎下次光临')\n",
    "        break\n",
    "    else:\n",
    "        a=int(a)\n",
    "        find_the_value(data,0,99,a)\n",
    "        if b!=1:\n",
    "            print('对不起，您查找的数不在搜索范围内')"
   ]
  },
  {
   "cell_type": "markdown",
   "metadata": {},
   "source": [
    "## 插值查找"
   ]
  },
  {
   "cell_type": "markdown",
   "metadata": {},
   "source": [
    "插值查找假设数据平均分布"
   ]
  },
  {
   "cell_type": "code",
   "execution_count": 7,
   "metadata": {},
   "outputs": [],
   "source": [
    "import random\n",
    "data=[]\n",
    "for i in range(100):\n",
    "    data.append(i)"
   ]
  },
  {
   "cell_type": "code",
   "execution_count": 8,
   "metadata": {},
   "outputs": [
    {
     "name": "stdout",
     "output_type": "stream",
     "text": [
      "请输入整数，若要退出请输入q，输入的值为：15\n",
      "已找到，该数的索引是15\n",
      "请输入整数，若要退出请输入q，输入的值为：1\n",
      "已找到，该数的索引是1\n",
      "请输入整数，若要退出请输入q，输入的值为：q\n",
      "感谢您的使用，欢迎下次光临\n"
     ]
    }
   ],
   "source": [
    "def find_the_value(data,left_boundary,right_boundary,value):\n",
    "    global b\n",
    "    real_data=data[left_boundary:right_boundary+1]\n",
    "    mid=int(((value-data[left_boundary])/(data[right_boundary]-data[left_boundary]))*(right_boundary-left_boundary))\n",
    "    if len(real_data)>=1:\n",
    "        if value==real_data[mid]:\n",
    "            print('已找到，该数的索引是{}'.format(mid+left_boundary))\n",
    "            b=1\n",
    "        if len(real_data)>=2:\n",
    "            if value>data[mid]:\n",
    "                find_the_value(data,mid+left_boundary+1,right_boundary,value)\n",
    "            if value<data[mid]:\n",
    "                find_the_value(data,left_boundary,mid+left_boundary-1,value)\n",
    "    \n",
    "while True:\n",
    "    b=0\n",
    "    a=input('请输入整数，若要退出请输入q，输入的值为：')\n",
    "    if a=='q':\n",
    "        print('感谢您的使用，欢迎下次光临')\n",
    "        break\n",
    "    else:\n",
    "        a=int(a)\n",
    "        find_the_value(data,0,99,a)\n",
    "        if b!=1:\n",
    "            print('对不起，您查找的数不在搜索范围内')"
   ]
  },
  {
   "cell_type": "markdown",
   "metadata": {},
   "source": [
    "## 斐波那契查找法"
   ]
  },
  {
   "cell_type": "markdown",
   "metadata": {},
   "source": [
    "# 哈希查找法"
   ]
  },
  {
   "cell_type": "markdown",
   "metadata": {},
   "source": [
    "常见的哈希法：除留余法、平方取中法、折叠法、数字分析法"
   ]
  },
  {
   "cell_type": "markdown",
   "metadata": {},
   "source": [
    "## 除留余法"
   ]
  },
  {
   "cell_type": "code",
   "execution_count": 12,
   "metadata": {},
   "outputs": [],
   "source": [
    "def mod(data,divider):\n",
    "    List=[-1]*divider\n",
    "    for i in data:\n",
    "        t=i%divider\n",
    "        if List[t]==-1:\n",
    "            List[t]=i\n",
    "        else:\n",
    "            print('发生碰撞')\n",
    "    return List"
   ]
  },
  {
   "cell_type": "code",
   "execution_count": 13,
   "metadata": {},
   "outputs": [
    {
     "data": {
      "text/plain": [
       "[65, -1, 67, -1, -1, 70, -1, 33, 99, 48, -1, -1, 12]"
      ]
     },
     "execution_count": 13,
     "metadata": {},
     "output_type": "execute_result"
    }
   ],
   "source": [
    "mod([12,65,70,99,33,67,48],13)"
   ]
  },
  {
   "cell_type": "code",
   "execution_count": 14,
   "metadata": {},
   "outputs": [
    {
     "data": {
      "text/plain": [
       "[77, 969, -1, 25, 323, -1, 28, 458, -1, -1, 340]"
      ]
     },
     "execution_count": 14,
     "metadata": {},
     "output_type": "execute_result"
    }
   ],
   "source": [
    "mod([323,458,25,340,28,969,77],11)"
   ]
  },
  {
   "cell_type": "markdown",
   "metadata": {},
   "source": [
    "## 平方取中法"
   ]
  },
  {
   "cell_type": "code",
   "execution_count": 5,
   "metadata": {},
   "outputs": [],
   "source": [
    "def mid(data,site):\n",
    "    n=len(site)\n",
    "    List=[-1]*(10**n)\n",
    "    new_data=[i**2 for i in data]\n",
    "    for i in range(len(data)):\n",
    "        index=0\n",
    "        p=0\n",
    "        for j in site:\n",
    "            p=p+1\n",
    "            value=new_data[i]%(10**j)\n",
    "            value=value//(10**(j-1))\n",
    "            value=value*10**(n-p)\n",
    "            index+=value\n",
    "        List[index]=data[i]\n",
    "    return List"
   ]
  },
  {
   "cell_type": "code",
   "execution_count": 13,
   "metadata": {},
   "outputs": [
    {
     "data": {
      "text/plain": [
       "[33, 12, 65, -1, 67, -1, 51, -1, 99, 70]"
      ]
     },
     "execution_count": 13,
     "metadata": {},
     "output_type": "execute_result"
    }
   ],
   "source": [
    "mid([12,65,70,99,33,67,51],[3])"
   ]
  },
  {
   "cell_type": "markdown",
   "metadata": {},
   "source": [
    "## 折叠法"
   ]
  },
  {
   "cell_type": "markdown",
   "metadata": {},
   "source": [
    "讲数据转换为一串数字后，先将这串数字拆分成几个部分，再把它们加起来"
   ]
  },
  {
   "cell_type": "markdown",
   "metadata": {},
   "source": [
    "## 数字分析法"
   ]
  },
  {
   "cell_type": "markdown",
   "metadata": {},
   "source": [
    "除去数字中的重复部分，讲特有部分作为key值  \n",
    "例如只选取手机号码后四位作为索引"
   ]
  },
  {
   "cell_type": "markdown",
   "metadata": {},
   "source": [
    "# 碰撞与溢出问题"
   ]
  },
  {
   "cell_type": "markdown",
   "metadata": {},
   "source": [
    "### 线性探测法:\n",
    "当对应的位置有数据时，往后寻找一位"
   ]
  },
  {
   "cell_type": "code",
   "execution_count": 19,
   "metadata": {},
   "outputs": [],
   "source": [
    "def create_table(data,value):\n",
    "    List=[-1]*value\n",
    "    for num in data:\n",
    "        index=num%value\n",
    "        while True:\n",
    "            if List[index]==-1:\n",
    "                List[index]=num\n",
    "                break\n",
    "            else:\n",
    "                index=(index+1)%value\n",
    "    return List"
   ]
  },
  {
   "cell_type": "code",
   "execution_count": 20,
   "metadata": {},
   "outputs": [
    {
     "data": {
      "text/plain": [
       "[13, 14, 15, 16, 26, -1, -1, -1, -1, -1, -1, -1, -1]"
      ]
     },
     "execution_count": 20,
     "metadata": {},
     "output_type": "execute_result"
    }
   ],
   "source": [
    "create_table([13,14,15,16,26],13)"
   ]
  },
  {
   "cell_type": "markdown",
   "metadata": {},
   "source": [
    "### 平方探测法\n",
    "下一次查找的位置是f（x）+i^2modB和f（x）-i^2modB  \n",
    "其中B必须是4j+3形的质数"
   ]
  },
  {
   "cell_type": "code",
   "execution_count": 21,
   "metadata": {},
   "outputs": [],
   "source": [
    "def create_table(data,value):\n",
    "    List=[-1]*value\n",
    "    for num in data:\n",
    "        index=num%value\n",
    "        while True:\n",
    "            i=1\n",
    "            if List[index]==-1:\n",
    "                List[index]=num\n",
    "                break\n",
    "            else:\n",
    "                i+=1\n",
    "                j=i//2\n",
    "                index=(index+(-1**i)*j**2)%value\n",
    "    return List"
   ]
  },
  {
   "cell_type": "code",
   "execution_count": 22,
   "metadata": {},
   "outputs": [
    {
     "data": {
      "text/plain": [
       "[13, 14, 15, 16, -1, -1, -1, -1, -1, -1, -1, -1, 26]"
      ]
     },
     "execution_count": 22,
     "metadata": {},
     "output_type": "execute_result"
    }
   ],
   "source": [
    "create_table([13,14,15,16,26],13)"
   ]
  },
  {
   "cell_type": "markdown",
   "metadata": {},
   "source": [
    "### 再哈希法\n",
    "一开始设置一系列的哈希函数，如果使用第一种哈希函数出现溢出，就使用第二种"
   ]
  },
  {
   "cell_type": "markdown",
   "metadata": {},
   "source": [
    "### 链表法\n",
    "将哈希表的所有空间建成n个链表，发生溢出时，就在后面增加一个节点"
   ]
  },
  {
   "cell_type": "code",
   "execution_count": null,
   "metadata": {},
   "outputs": [],
   "source": []
  }
 ],
 "metadata": {
  "kernelspec": {
   "display_name": "Python 3",
   "language": "python",
   "name": "python3"
  },
  "language_info": {
   "codemirror_mode": {
    "name": "ipython",
    "version": 3
   },
   "file_extension": ".py",
   "mimetype": "text/x-python",
   "name": "python",
   "nbconvert_exporter": "python",
   "pygments_lexer": "ipython3",
   "version": "3.6.5"
  }
 },
 "nbformat": 4,
 "nbformat_minor": 2
}
