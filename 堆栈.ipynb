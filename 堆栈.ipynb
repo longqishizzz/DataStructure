{
 "cells": [
  {
   "cell_type": "markdown",
   "metadata": {},
   "source": [
    "抽象数据结构，具有后进先出的特点"
   ]
  },
  {
   "cell_type": "markdown",
   "metadata": {},
   "source": [
    "## 用列表实现堆栈"
   ]
  },
  {
   "cell_type": "markdown",
   "metadata": {},
   "source": [
    "优点：设计的算法简单  \n",
    "缺点：列表大小事先需要规定好，太大浪费空间，太小不够用"
   ]
  },
  {
   "cell_type": "code",
   "execution_count": 1,
   "metadata": {},
   "outputs": [],
   "source": [
    "MAXSTACK=100\n",
    "global stack\n",
    "stack=[None]*MAXSTACK\n",
    "top=-1"
   ]
  },
  {
   "cell_type": "code",
   "execution_count": 2,
   "metadata": {},
   "outputs": [],
   "source": [
    "#判断是否为空栈\n",
    "def isEmpty():\n",
    "    if top==-1:\n",
    "        return True\n",
    "    else:\n",
    "        return False"
   ]
  },
  {
   "cell_type": "code",
   "execution_count": 3,
   "metadata": {},
   "outputs": [],
   "source": [
    "#将指定数据压入堆栈\n",
    "def push(data):\n",
    "    global top\n",
    "    global stack\n",
    "    global MAXSTACK\n",
    "    if top>MAXSTACK-1:\n",
    "        print('堆栈已满')\n",
    "    else:\n",
    "        top+=1\n",
    "        stack[top]=data"
   ]
  },
  {
   "cell_type": "code",
   "execution_count": 4,
   "metadata": {},
   "outputs": [],
   "source": [
    "#将数据弹出\n",
    "def pop():\n",
    "    global top\n",
    "    global stack\n",
    "    if isEmpty():\n",
    "        print('堆栈是空的')\n",
    "    else:\n",
    "        print('弹出的元素是：{}'.format(stack[top]))\n",
    "        top=top-1"
   ]
  },
  {
   "cell_type": "code",
   "execution_count": 5,
   "metadata": {},
   "outputs": [
    {
     "name": "stdout",
     "output_type": "stream",
     "text": [
      "要压入堆栈，输入1，要弹出堆栈，输入0，停止操作输入-1：1\n",
      "请输入数据值：1\n",
      "要压入堆栈，输入1，要弹出堆栈，输入0，停止操作输入-1：1\n",
      "请输入数据值：2\n",
      "要压入堆栈，输入1，要弹出堆栈，输入0，停止操作输入-1：1\n",
      "请输入数据值：3\n",
      "要压入堆栈，输入1，要弹出堆栈，输入0，停止操作输入-1：1\n",
      "请输入数据值：a\n",
      "要压入堆栈，输入1，要弹出堆栈，输入0，停止操作输入-1：1\n",
      "请输入数据值：b\n",
      "要压入堆栈，输入1，要弹出堆栈，输入0，停止操作输入-1：1\n",
      "请输入数据值：c\n",
      "要压入堆栈，输入1，要弹出堆栈，输入0，停止操作输入-1：0\n",
      "弹出的元素是：c\n",
      "要压入堆栈，输入1，要弹出堆栈，输入0，停止操作输入-1：0\n",
      "弹出的元素是：b\n",
      "要压入堆栈，输入1，要弹出堆栈，输入0，停止操作输入-1：0\n",
      "弹出的元素是：a\n",
      "要压入堆栈，输入1，要弹出堆栈，输入0，停止操作输入-1：-1\n",
      "堆栈弹出的顺序是：3\n",
      "堆栈弹出的顺序是：2\n",
      "堆栈弹出的顺序是：1\n"
     ]
    }
   ],
   "source": [
    "#主程序\n",
    "i=2\n",
    "count=0\n",
    "while True:\n",
    "    i=int(input('要压入堆栈，输入1，要弹出堆栈，输入0，停止操作输入-1：'))\n",
    "    if i==-1:\n",
    "        break\n",
    "    elif i==0:\n",
    "        pop()\n",
    "    elif i==1:\n",
    "        push(input('请输入数据值：'))\n",
    "    else:\n",
    "        print('输入错误，请重新输入')\n",
    "        \n",
    "if top==-1:\n",
    "    print('堆栈是空的')\n",
    "else:\n",
    "    i=top\n",
    "    while i>=0:\n",
    "        print('堆栈弹出的顺序是：{}'.format(stack[i]))\n",
    "        i=i-1"
   ]
  },
  {
   "cell_type": "markdown",
   "metadata": {},
   "source": [
    "### 用堆栈仿真扑克牌发牌洗牌过程"
   ]
  },
  {
   "cell_type": "markdown",
   "metadata": {},
   "source": [
    "用随机数来生成扑克牌放入堆栈，放满52张牌后开始发牌，使用堆栈功能给4个人发牌"
   ]
  },
  {
   "cell_type": "code",
   "execution_count": 16,
   "metadata": {},
   "outputs": [
    {
     "name": "stdout",
     "output_type": "stream",
     "text": [
      "洗牌中。。。请稍等\n",
      "逆时针发牌\n",
      "显示各家的牌\n",
      "东家\t 北家\t 西家\t 南家\n",
      "========================\n",
      "梅花4\t黑桃4\t梅花J\t梅花6\t\n",
      "方块5\t红心3\t方块6\t梅花k\t\n",
      "黑桃J\t黑桃5\t方块4\t红心1\t\n",
      "梅花1\t黑桃6\t红心k\t黑桃3\t\n",
      "黑桃Q\t方块10\t红心2\t梅花7\t\n",
      "梅花9\t方块3\t方块1\t红心J\t\n",
      "红心4\t梅花8\t红心Q\t黑桃k\t\n",
      "黑桃10\t方块9\t红心6\t红心10\t\n",
      "黑桃8\t方块2\t方块J\t方块k\t\n",
      "红心8\t方块8\t红心7\t方块7\t\n",
      "黑桃9\t梅花10\t方块Q\t梅花Q\t\n",
      "黑桃1\t梅花5\t黑桃2\t红心5\t\n",
      "红心9\t黑桃7\t梅花2\t梅花3\t\n"
     ]
    }
   ],
   "source": [
    "import random\n",
    "import math\n",
    "global top\n",
    "\n",
    "top=-1\n",
    "k=0\n",
    "\n",
    "def push(stack,MAX,val):\n",
    "    global top\n",
    "    if top>=MAX-1:\n",
    "        print('堆栈已经满了')\n",
    "    else:\n",
    "        top=top+1\n",
    "        stack[top]=val\n",
    "        \n",
    "def pop(stack):\n",
    "    global top\n",
    "    if top==-1:\n",
    "        print('堆栈是空的')\n",
    "    else:\n",
    "        a=top\n",
    "        top=top-1\n",
    "        return stack[a]\n",
    "    \n",
    "def shuffle(old):\n",
    "    result=[]\n",
    "    while old:\n",
    "        p=random.randrange(0,len(old))\n",
    "        result.append(old[p])\n",
    "        old.pop(p)\n",
    "    return result\n",
    "\n",
    "card=[None]*52\n",
    "card_new=[None]*52\n",
    "stack=[0]*52\n",
    "for i in range(52):\n",
    "    card[i]=i+1\n",
    "    \n",
    "print('洗牌中。。。请稍等')\n",
    "card_new=shuffle(card)\n",
    "\n",
    "i=0\n",
    "while i!=52:\n",
    "    push(stack,52,card_new[i])\n",
    "    i=i+1\n",
    "print('逆时针发牌')\n",
    "print('显示各家的牌')\n",
    "print('东家\\t 北家\\t 西家\\t 南家')\n",
    "print('========================')\n",
    "while top>=0:\n",
    "    style=math.ceil(stack[top]/13)\n",
    "    if style==1:\n",
    "        asc='梅花'\n",
    "    elif style==2:\n",
    "        asc='方块'\n",
    "    elif style==3:\n",
    "        asc='红心'\n",
    "    else:\n",
    "        asc='黑桃'\n",
    "    card_num=stack[top]%13+1\n",
    "    if card_num==11:\n",
    "        card_num='J'\n",
    "    elif card_num==12:\n",
    "        card_num='Q'\n",
    "    elif card_num==13:\n",
    "        card_num='k'\n",
    "    print('{}{}\\t'.format(asc,card_num),end='')\n",
    "    if top%4==0:\n",
    "        print()\n",
    "    top-=1"
   ]
  },
  {
   "cell_type": "code",
   "execution_count": 13,
   "metadata": {},
   "outputs": [],
   "source": [
    "card=[None]*52\n",
    "for i in range(52):\n",
    "    card[i]=i+1\n",
    "def pop(stack):\n",
    "    global top\n",
    "    if top==-1:\n",
    "        print('堆栈是空的')\n",
    "    else:\n",
    "        a=top\n",
    "        top=top-1\n",
    "        return stack[a]    \n",
    "\n",
    "def shuffle(old):\n",
    "    result=[]\n",
    "    while old:\n",
    "        p=random.randrange(0,len(old))\n",
    "        result.append(old[p])\n",
    "        #这里好像导致删除的是p+1？也就是将top赋值为p，但是程序运行完之后top还是-1\n",
    "        #那这就不是堆栈的操作了呀\n",
    "        old.pop(p)\n",
    "    return result\n",
    "\n",
    "\n",
    "card_new=shuffle(card)"
   ]
  },
  {
   "cell_type": "code",
   "execution_count": 34,
   "metadata": {},
   "outputs": [],
   "source": [
    "card=[None]*52\n",
    "for i in range(52):\n",
    "    card[i]=i+1"
   ]
  },
  {
   "cell_type": "code",
   "execution_count": 35,
   "metadata": {},
   "outputs": [
    {
     "data": {
      "text/plain": [
       "[1,\n",
       " 2,\n",
       " 3,\n",
       " 4,\n",
       " 5,\n",
       " 6,\n",
       " 7,\n",
       " 8,\n",
       " 9,\n",
       " 10,\n",
       " 11,\n",
       " 12,\n",
       " 13,\n",
       " 14,\n",
       " 15,\n",
       " 16,\n",
       " 17,\n",
       " 18,\n",
       " 19,\n",
       " 20,\n",
       " 21,\n",
       " 22,\n",
       " 23,\n",
       " 24,\n",
       " 25,\n",
       " 26,\n",
       " 27,\n",
       " 28,\n",
       " 29,\n",
       " 30,\n",
       " 31,\n",
       " 32,\n",
       " 33,\n",
       " 34,\n",
       " 35,\n",
       " 36,\n",
       " 37,\n",
       " 38,\n",
       " 39,\n",
       " 40,\n",
       " 41,\n",
       " 42,\n",
       " 43,\n",
       " 44,\n",
       " 45,\n",
       " 46,\n",
       " 47,\n",
       " 48,\n",
       " 49,\n",
       " 50,\n",
       " 51,\n",
       " 52]"
      ]
     },
     "execution_count": 35,
     "metadata": {},
     "output_type": "execute_result"
    }
   ],
   "source": [
    "def pop(stack):\n",
    "    global top\n",
    "    if top==-1:\n",
    "        print('堆栈是空的')\n",
    "    else:\n",
    "        a=top\n",
    "        top=top-1\n",
    "        return stack[a]    \n",
    "card"
   ]
  },
  {
   "cell_type": "code",
   "execution_count": 36,
   "metadata": {},
   "outputs": [
    {
     "data": {
      "text/plain": [
       "46"
      ]
     },
     "execution_count": 36,
     "metadata": {},
     "output_type": "execute_result"
    }
   ],
   "source": [
    "p=random.randrange(0,len(card))\n",
    "p\n"
   ]
  },
  {
   "cell_type": "code",
   "execution_count": 37,
   "metadata": {},
   "outputs": [],
   "source": [
    "result=[]\n",
    "result.append(card[p])\n"
   ]
  },
  {
   "cell_type": "code",
   "execution_count": 38,
   "metadata": {},
   "outputs": [
    {
     "data": {
      "text/plain": [
       "[47]"
      ]
     },
     "execution_count": 38,
     "metadata": {},
     "output_type": "execute_result"
    }
   ],
   "source": [
    "result"
   ]
  },
  {
   "cell_type": "code",
   "execution_count": 39,
   "metadata": {},
   "outputs": [
    {
     "data": {
      "text/plain": [
       "47"
      ]
     },
     "execution_count": 39,
     "metadata": {},
     "output_type": "execute_result"
    }
   ],
   "source": [
    "card.pop(p)\n"
   ]
  },
  {
   "cell_type": "markdown",
   "metadata": {},
   "source": [
    "## 汉诺塔问题"
   ]
  },
  {
   "cell_type": "code",
   "execution_count": 1,
   "metadata": {},
   "outputs": [],
   "source": [
    "#有点像数学归纳法，从n=1开始，然后计算n-1推到n需要怎么做\n",
    "def hanoi(n,p1,p2,p3):\n",
    "    #当n=1时的情况\n",
    "    if n==1:\n",
    "        print('把盘子从{}移动到{}'.format(p1,p3))\n",
    "    else:\n",
    "        #当n>1时，要把n-1个盘子移动到p2，再把最后一个盘子移动到p3，最后将n-1个盘子移动到p3\n",
    "        hanoi(n-1,p1,p3,p2)\n",
    "        print('把盘子从{}移动到{}'.format(p1,p3))\n",
    "        hanoi(n-1,p2,p1,p3)"
   ]
  },
  {
   "cell_type": "code",
   "execution_count": null,
   "metadata": {},
   "outputs": [],
   "source": [
    "p1=1\n",
    "p2=2\n",
    "p3=3\n",
    "hanoi(6,p1,p2,p3)"
   ]
  },
  {
   "cell_type": "markdown",
   "metadata": {},
   "source": [
    "## 老鼠走迷宫问题"
   ]
  },
  {
   "cell_type": "markdown",
   "metadata": {},
   "source": [
    "思想：穷举法，走完所有的路。  \n",
    "\n",
    "老鼠不能通过的地方为1，走过的地方为2，用一个类的实例记录老鼠走过的路，一个类的实例来记录老鼠当前的位置。  \n",
    "若老鼠当前位置没有路可以走，那么当前就是死胡同，需要根据走过的路回退，寻找到岔路口重新选择另一条路，直到走到出口"
   ]
  },
  {
   "cell_type": "markdown",
   "metadata": {},
   "source": [
    "用全局变量  top 来记录当前节点的位置，从而实现堆栈功能"
   ]
  },
  {
   "cell_type": "code",
   "execution_count": 52,
   "metadata": {},
   "outputs": [
    {
     "name": "stdout",
     "output_type": "stream",
     "text": [
      "====================\n",
      "迷宫为:\n",
      "111111111111\n",
      "100011111111\n",
      "111011000011\n",
      "111011011011\n",
      "111000011011\n",
      "111011011011\n",
      "111011011011\n",
      "111111011011\n",
      "110000001001\n",
      "111111111111\n",
      "====================\n",
      "老鼠走过的路为：\n",
      "111111111111\n",
      "122211111111\n",
      "111211222211\n",
      "111211211211\n",
      "111222211211\n",
      "111211011211\n",
      "111211011211\n",
      "111111011211\n",
      "110000001221\n",
      "111111111111\n",
      "====================\n"
     ]
    }
   ],
   "source": [
    "#Node类的实例记录当前点的位置\n",
    "class Node:\n",
    "    def __init__(self):\n",
    "        self.x=0\n",
    "        self.y=0\n",
    "        self.next=None\n",
    "def push(x,y):\n",
    "    global top\n",
    "    new_node=Node()\n",
    "    new_node.x=x\n",
    "    new_node.y=y\n",
    "    new_node.next=top\n",
    "    top=new_node\n",
    "    \n",
    "def pop():\n",
    "    global top\n",
    "    top=top.next\n",
    "    \n",
    "def check_point(x,y,ex,ey):\n",
    "    if x==ex and y==ey:\n",
    "        return 1\n",
    "    else:\n",
    "        return 0\n",
    "    \n",
    "def next_step(MAZE,ex,ey):\n",
    "    a=top.x\n",
    "    b=top.y\n",
    "    ex=ex\n",
    "    ey=ey\n",
    "    if MAZE[a-1][b]==0:\n",
    "        push(a-1,b)\n",
    "        MAZE[a-1][b]=2\n",
    "    elif MAZE[a][b-1]==0:\n",
    "        push(a,b-1)\n",
    "        MAZE[a][b-1]=2\n",
    "    elif MAZE[a+1][b]==0:\n",
    "        push(a+1,b)\n",
    "        MAZE[a+1][b]=2\n",
    "    elif MAZE[a][b+1]==0:\n",
    "        push(a,b+1)\n",
    "        MAZE[a][b+1]=2\n",
    "    else:\n",
    "        pop()\n",
    "        \n",
    "def find_road(MAZE,x,y,ex,ey):\n",
    "    global top\n",
    "    a=ex\n",
    "    b=ey\n",
    "    head=Node()\n",
    "    head.x=x\n",
    "    head.y=y\n",
    "    head.next=None\n",
    "    top=head\n",
    "    while check_point(top.x,top.y,a,b)==0:\n",
    "        next_step(MAZE,a,b)\n",
    "        \n",
    "    print('老鼠走过的路为：')\n",
    "    for i in range(10):\n",
    "        for j in range(12):\n",
    "            print(MAZE[i][j],end='')\n",
    "        print()\n",
    "            \n",
    "    \n",
    "MAZE=[[1,1,1,1,1,1,1,1,1,1,1,1],\\\n",
    "      [1,0,0,0,1,1,1,1,1,1,1,1],\\\n",
    "      [1,1,1,0,1,1,0,0,0,0,1,1],\\\n",
    "      [1,1,1,0,1,1,0,1,1,0,1,1],\\\n",
    "      [1,1,1,0,0,0,0,1,1,0,1,1],\\\n",
    "      [1,1,1,0,1,1,0,1,1,0,1,1],\\\n",
    "      [1,1,1,0,1,1,0,1,1,0,1,1],\\\n",
    "      [1,1,1,1,1,1,0,1,1,0,1,1],\\\n",
    "      [1,1,0,0,0,0,0,0,1,0,0,1],\\\n",
    "      [1,1,1,1,1,1,1,1,1,1,1,1]]\n",
    "x=1\n",
    "y=1\n",
    "ex=8\n",
    "ey=10\n",
    "print('='*20)\n",
    "print('迷宫为:')\n",
    "for i in range(10):\n",
    "        for j in range(12):\n",
    "            print(MAZE[i][j],end='')\n",
    "        print()\n",
    "print('='*20)\n",
    "find_road(MAZE,x,y,ex,ey)\n",
    "print('='*20)\n",
    "\n"
   ]
  },
  {
   "cell_type": "code",
   "execution_count": 53,
   "metadata": {},
   "outputs": [
    {
     "name": "stdout",
     "output_type": "stream",
     "text": [
      "111111111111\n",
      "133311111111\n",
      "111311333311\n",
      "111311311311\n",
      "111333311311\n",
      "111211011311\n",
      "111211011311\n",
      "111111011311\n",
      "110000001331\n",
      "111111111111\n"
     ]
    }
   ],
   "source": [
    "while top!=None:\n",
    "    MAZE[top.x][top.y]=3\n",
    "    top=top.next\n",
    "for i in range(10):\n",
    "        for j in range(12):\n",
    "            print(MAZE[i][j],end='')\n",
    "        print()"
   ]
  },
  {
   "cell_type": "markdown",
   "metadata": {},
   "source": [
    "### 用类来实现"
   ]
  },
  {
   "cell_type": "markdown",
   "metadata": {},
   "source": [
    "一个类用来生成节点  \n",
    "另一个类用来记录路径  \n",
    "和上一个方法不同的是，上一个方法使用全局变量top来记录当前节点的位置  \n",
    "本次用类的属性来记录节点位置"
   ]
  },
  {
   "cell_type": "code",
   "execution_count": 203,
   "metadata": {},
   "outputs": [],
   "source": [
    "class Node:\n",
    "    def __init__(self,x,y):\n",
    "        self.x=x\n",
    "        self.y=y\n",
    "        self.next=None"
   ]
  },
  {
   "cell_type": "code",
   "execution_count": 204,
   "metadata": {},
   "outputs": [],
   "source": [
    "class Trace:\n",
    "    def __init__(self):\n",
    "        self.first=None\n",
    "        self.last=None\n",
    "    def insert(self,x,y):\n",
    "        new_node=Node(x,y)\n",
    "        if self.first==None:\n",
    "            self.first=new_node\n",
    "            self.last=new_node\n",
    "        else:\n",
    "            #新节点指向当前的last\n",
    "            #last指向新节点\n",
    "            new_node.next=self.last\n",
    "            self.last=new_node\n",
    "            \n",
    "    def pop(self):\n",
    "        self.last=self.last.next\n",
    "    \n",
    "    def step(self,MAZE):\n",
    "        a=self.last.x\n",
    "        b=self.last.y\n",
    "        if MAZE[a-1][b]==0:\n",
    "            self.insert(a-1,b)\n",
    "            MAZE[a-1][b]=2\n",
    "        elif MAZE[a+1][b]==0:\n",
    "            self.insert(a+1,b)\n",
    "            MAZE[a+1][b]=2\n",
    "        elif MAZE[a][b-1]==0:\n",
    "            self.insert(a,b-1)\n",
    "            MAZE[a][b-1]=2 \n",
    "        elif MAZE[a][b+1]==0:\n",
    "            self.insert(a,b+1)\n",
    "            MAZE[a][b+1]=2\n",
    "        else:\n",
    "            self.pop()\n",
    "    def check_exit(self,ex,ey):\n",
    "        if self.last.x==ex and self.last.y==ey:\n",
    "            return 1\n",
    "        else:\n",
    "            return 0"
   ]
  },
  {
   "cell_type": "code",
   "execution_count": 205,
   "metadata": {},
   "outputs": [
    {
     "name": "stdout",
     "output_type": "stream",
     "text": [
      "====================\n",
      "迷宫为:\n",
      "1 1 1 1 1 1 1 1 1 1 1 1 \n",
      "1 0 0 0 1 1 1 1 1 1 1 1 \n",
      "1 1 1 0 1 1 0 0 0 0 1 1 \n",
      "1 1 1 0 1 1 0 1 1 0 1 1 \n",
      "1 1 1 0 0 0 0 1 1 0 1 1 \n",
      "1 1 1 0 1 1 0 1 1 0 1 1 \n",
      "1 1 1 0 1 1 0 1 1 0 1 1 \n",
      "1 1 1 1 1 1 0 1 1 0 1 1 \n",
      "1 1 0 0 0 0 0 0 1 0 0 1 \n",
      "1 1 1 1 1 1 1 1 1 1 1 1 \n",
      "====================\n"
     ]
    }
   ],
   "source": [
    "#定义迷宫矩阵和入口出口：\n",
    "MAZE=[[1,1,1,1,1,1,1,1,1,1,1,1],\\\n",
    "      [1,0,0,0,1,1,1,1,1,1,1,1],\\\n",
    "      [1,1,1,0,1,1,0,0,0,0,1,1],\\\n",
    "      [1,1,1,0,1,1,0,1,1,0,1,1],\\\n",
    "      [1,1,1,0,0,0,0,1,1,0,1,1],\\\n",
    "      [1,1,1,0,1,1,0,1,1,0,1,1],\\\n",
    "      [1,1,1,0,1,1,0,1,1,0,1,1],\\\n",
    "      [1,1,1,1,1,1,0,1,1,0,1,1],\\\n",
    "      [1,1,0,0,0,0,0,0,1,0,0,1],\\\n",
    "      [1,1,1,1,1,1,1,1,1,1,1,1]]\n",
    "x=1\n",
    "y=1\n",
    "ex=8\n",
    "ey=10\n",
    "print('='*20)\n",
    "print('迷宫为:')\n",
    "for i in range(10):\n",
    "        for j in range(12):\n",
    "            print(MAZE[i][j],end='')\n",
    "            print(' ',end='')\n",
    "        print()\n",
    "print('='*20)"
   ]
  },
  {
   "cell_type": "code",
   "execution_count": 206,
   "metadata": {},
   "outputs": [],
   "source": [
    "def findroad(x,y,ex,ey,MAZE):\n",
    "    trace=Trace()\n",
    "    trace.insert(x,y)\n",
    "    MAZE[x][y]=2\n",
    "    while trace.check_exit(ex,ey)==0:\n",
    "        trace.step(MAZE)\n",
    "    for i in range(10):\n",
    "        for j in range(12):\n",
    "            print(MAZE[i][j],end='')\n",
    "            print(' ',end='')\n",
    "        print()\n",
    "    print('='*40)\n",
    "    return trace.last"
   ]
  },
  {
   "cell_type": "markdown",
   "metadata": {},
   "source": [
    "### 寻找老鼠走过的路径"
   ]
  },
  {
   "cell_type": "code",
   "execution_count": 207,
   "metadata": {},
   "outputs": [
    {
     "name": "stdout",
     "output_type": "stream",
     "text": [
      "1 1 1 1 1 1 1 1 1 1 1 1 \n",
      "1 2 2 2 1 1 1 1 1 1 1 1 \n",
      "1 1 1 2 1 1 2 2 2 2 1 1 \n",
      "1 1 1 2 1 1 2 1 1 2 1 1 \n",
      "1 1 1 2 2 2 2 1 1 2 1 1 \n",
      "1 1 1 2 1 1 0 1 1 2 1 1 \n",
      "1 1 1 2 1 1 0 1 1 2 1 1 \n",
      "1 1 1 1 1 1 0 1 1 2 1 1 \n",
      "1 1 0 0 0 0 0 0 1 2 2 1 \n",
      "1 1 1 1 1 1 1 1 1 1 1 1 \n",
      "========================================\n"
     ]
    }
   ],
   "source": [
    "a=findroad(x,y,ex,ey,MAZE)"
   ]
  },
  {
   "cell_type": "markdown",
   "metadata": {},
   "source": [
    "### 返回正确路径"
   ]
  },
  {
   "cell_type": "code",
   "execution_count": 208,
   "metadata": {},
   "outputs": [
    {
     "name": "stdout",
     "output_type": "stream",
     "text": [
      "1 1 1 1 1 1 1 1 1 1 1 1 \n",
      "1 3 3 3 1 1 1 1 1 1 1 1 \n",
      "1 1 1 3 1 1 3 3 3 3 1 1 \n",
      "1 1 1 3 1 1 3 1 1 3 1 1 \n",
      "1 1 1 3 3 3 3 1 1 3 1 1 \n",
      "1 1 1 2 1 1 0 1 1 3 1 1 \n",
      "1 1 1 2 1 1 0 1 1 3 1 1 \n",
      "1 1 1 1 1 1 0 1 1 3 1 1 \n",
      "1 1 0 0 0 0 0 0 1 3 3 1 \n",
      "1 1 1 1 1 1 1 1 1 1 1 1 \n"
     ]
    }
   ],
   "source": [
    "while a!=None:\n",
    "    MAZE[a.x][a.y]=3\n",
    "    a=a.next\n",
    "    \n",
    "for i in range(10):\n",
    "        for j in range(12):\n",
    "            print(MAZE[i][j],end='')\n",
    "            print(' ',end='')\n",
    "        print()"
   ]
  },
  {
   "cell_type": "code",
   "execution_count": 209,
   "metadata": {},
   "outputs": [],
   "source": [
    "##################################################################\n",
    "#测试用\n",
    "trace.insert(x,y)\n",
    "MAZE[x][y]=2"
   ]
  },
  {
   "cell_type": "code",
   "execution_count": 176,
   "metadata": {},
   "outputs": [],
   "source": [
    "trace.step(MAZE)"
   ]
  },
  {
   "cell_type": "code",
   "execution_count": 177,
   "metadata": {},
   "outputs": [
    {
     "name": "stdout",
     "output_type": "stream",
     "text": [
      "1 1 1 1 1 1 1 1 1 1 1 1 \n",
      "1 2 2 2 1 1 1 1 1 1 1 1 \n",
      "1 1 1 2 1 1 0 0 0 0 1 1 \n",
      "1 1 1 2 1 1 2 1 1 0 1 1 \n",
      "1 1 1 2 2 2 2 1 1 0 1 1 \n",
      "1 1 1 2 1 1 0 1 1 0 1 1 \n",
      "1 1 1 2 1 1 0 1 1 0 1 1 \n",
      "1 1 1 1 1 1 0 1 1 0 1 1 \n",
      "1 1 0 0 0 0 0 0 1 0 0 1 \n",
      "1 1 1 1 1 1 1 1 1 1 1 1 \n"
     ]
    }
   ],
   "source": [
    "for i in range(10):\n",
    "    for j in range(12):\n",
    "        print(MAZE[i][j],end='')\n",
    "        print(' ',end='')\n",
    "    print('')"
   ]
  },
  {
   "cell_type": "markdown",
   "metadata": {},
   "source": [
    "# 八皇后问题"
   ]
  },
  {
   "cell_type": "code",
   "execution_count": 1,
   "metadata": {},
   "outputs": [],
   "source": [
    "global queen\n",
    "global number\n",
    "queen=[None]*8\n",
    "number=0"
   ]
  },
  {
   "cell_type": "code",
   "execution_count": 2,
   "metadata": {},
   "outputs": [],
   "source": [
    "def attack(row,column):\n",
    "    global queen\n",
    "    i=0\n",
    "    atk=0\n",
    "    while atk==0 and i<column:\n",
    "        a=abs(i-column)\n",
    "        b=abs(row-queen[i])\n",
    "        if a==b or queen[i]==row:\n",
    "            atk=1\n",
    "        i=i+1\n",
    "    return atk"
   ]
  },
  {
   "cell_type": "code",
   "execution_count": 3,
   "metadata": {},
   "outputs": [],
   "source": [
    "def decide_position(value):\n",
    "    global queen\n",
    "    i=0\n",
    "    while i<8:\n",
    "        if attack(i,value)!=1:\n",
    "            queen[value]=i\n",
    "            if value == 7:\n",
    "                print_table()\n",
    "            else:\n",
    "                decide_position(value+1)\n",
    "        i=i+1\n",
    "        "
   ]
  },
  {
   "cell_type": "code",
   "execution_count": 4,
   "metadata": {},
   "outputs": [],
   "source": [
    "def print_table():\n",
    "    global number\n",
    "    x=y=0\n",
    "    number=number+1\n",
    "    print('')\n",
    "    print('八皇后问题的第{}组解'.format(number))\n",
    "    for x in range(8):\n",
    "        for y in range(8):\n",
    "            if x==queen[y]:\n",
    "                print('<q>',end='')\n",
    "            else:\n",
    "                print('<->',end='')\n",
    "        print('\\t')\n",
    "    input('按下任意键继续')"
   ]
  },
  {
   "cell_type": "code",
   "execution_count": null,
   "metadata": {},
   "outputs": [
    {
     "name": "stdout",
     "output_type": "stream",
     "text": [
      "\n",
      "八皇后问题的第1组解\n",
      "<q><-><-><-><-><-><-><->\t\n",
      "<-><-><-><-><-><-><q><->\t\n",
      "<-><-><-><-><q><-><-><->\t\n",
      "<-><-><-><-><-><-><-><q>\t\n",
      "<-><q><-><-><-><-><-><->\t\n",
      "<-><-><-><q><-><-><-><->\t\n",
      "<-><-><-><-><-><q><-><->\t\n",
      "<-><-><q><-><-><-><-><->\t\n",
      "按下任意键继续k\n",
      "\n",
      "八皇后问题的第2组解\n",
      "<q><-><-><-><-><-><-><->\t\n",
      "<-><-><-><-><-><-><q><->\t\n",
      "<-><-><-><q><-><-><-><->\t\n",
      "<-><-><-><-><-><q><-><->\t\n",
      "<-><-><-><-><-><-><-><q>\t\n",
      "<-><q><-><-><-><-><-><->\t\n",
      "<-><-><-><-><q><-><-><->\t\n",
      "<-><-><q><-><-><-><-><->\t\n",
      "按下任意键继续\n",
      "\n",
      "八皇后问题的第3组解\n",
      "<q><-><-><-><-><-><-><->\t\n",
      "<-><-><-><-><-><q><-><->\t\n",
      "<-><-><-><-><-><-><-><q>\t\n",
      "<-><-><q><-><-><-><-><->\t\n",
      "<-><-><-><-><-><-><q><->\t\n",
      "<-><-><-><q><-><-><-><->\t\n",
      "<-><q><-><-><-><-><-><->\t\n",
      "<-><-><-><-><q><-><-><->\t\n",
      "按下任意键继续\n",
      "\n",
      "八皇后问题的第4组解\n",
      "<q><-><-><-><-><-><-><->\t\n",
      "<-><-><-><-><q><-><-><->\t\n",
      "<-><-><-><-><-><-><-><q>\t\n",
      "<-><-><-><-><-><q><-><->\t\n",
      "<-><-><q><-><-><-><-><->\t\n",
      "<-><-><-><-><-><-><q><->\t\n",
      "<-><q><-><-><-><-><-><->\t\n",
      "<-><-><-><q><-><-><-><->\t\n",
      "按下任意键继续\n",
      "\n",
      "八皇后问题的第5组解\n",
      "<-><-><-><-><-><q><-><->\t\n",
      "<q><-><-><-><-><-><-><->\t\n",
      "<-><-><-><-><q><-><-><->\t\n",
      "<-><q><-><-><-><-><-><->\t\n",
      "<-><-><-><-><-><-><-><q>\t\n",
      "<-><-><q><-><-><-><-><->\t\n",
      "<-><-><-><-><-><-><q><->\t\n",
      "<-><-><-><q><-><-><-><->\t\n",
      "按下任意键继续\n",
      "\n",
      "八皇后问题的第6组解\n",
      "<-><-><-><q><-><-><-><->\t\n",
      "<q><-><-><-><-><-><-><->\t\n",
      "<-><-><-><-><q><-><-><->\t\n",
      "<-><-><-><-><-><-><-><q>\t\n",
      "<-><q><-><-><-><-><-><->\t\n",
      "<-><-><-><-><-><-><q><->\t\n",
      "<-><-><q><-><-><-><-><->\t\n",
      "<-><-><-><-><-><q><-><->\t\n",
      "按下任意键继续\n",
      "\n",
      "八皇后问题的第7组解\n",
      "<-><-><-><-><q><-><-><->\t\n",
      "<q><-><-><-><-><-><-><->\t\n",
      "<-><-><-><-><-><-><-><q>\t\n",
      "<-><-><-><q><-><-><-><->\t\n",
      "<-><q><-><-><-><-><-><->\t\n",
      "<-><-><-><-><-><-><q><->\t\n",
      "<-><-><q><-><-><-><-><->\t\n",
      "<-><-><-><-><-><q><-><->\t\n",
      "按下任意键继续\n",
      "\n",
      "八皇后问题的第8组解\n",
      "<-><-><q><-><-><-><-><->\t\n",
      "<q><-><-><-><-><-><-><->\t\n",
      "<-><-><-><-><-><-><q><->\t\n",
      "<-><-><-><-><q><-><-><->\t\n",
      "<-><-><-><-><-><-><-><q>\t\n",
      "<-><q><-><-><-><-><-><->\t\n",
      "<-><-><-><q><-><-><-><->\t\n",
      "<-><-><-><-><-><q><-><->\t\n",
      "按下任意键继续\n",
      "\n",
      "八皇后问题的第9组解\n",
      "<-><-><-><-><q><-><-><->\t\n",
      "<q><-><-><-><-><-><-><->\t\n",
      "<-><-><-><q><-><-><-><->\t\n",
      "<-><-><-><-><-><q><-><->\t\n",
      "<-><-><-><-><-><-><-><q>\t\n",
      "<-><q><-><-><-><-><-><->\t\n",
      "<-><-><-><-><-><-><q><->\t\n",
      "<-><-><q><-><-><-><-><->\t\n",
      "按下任意键继续\n",
      "\n",
      "八皇后问题的第10组解\n",
      "<-><-><-><-><-><-><q><->\t\n",
      "<q><-><-><-><-><-><-><->\t\n",
      "<-><-><q><-><-><-><-><->\t\n",
      "<-><-><-><-><-><-><-><q>\t\n",
      "<-><-><-><-><-><q><-><->\t\n",
      "<-><-><-><q><-><-><-><->\t\n",
      "<-><q><-><-><-><-><-><->\t\n",
      "<-><-><-><-><q><-><-><->\t\n",
      "按下任意键继续\n",
      "\n",
      "八皇后问题的第11组解\n",
      "<-><-><-><-><q><-><-><->\t\n",
      "<q><-><-><-><-><-><-><->\t\n",
      "<-><-><-><-><-><-><-><q>\t\n",
      "<-><-><-><-><-><q><-><->\t\n",
      "<-><-><q><-><-><-><-><->\t\n",
      "<-><-><-><-><-><-><q><->\t\n",
      "<-><q><-><-><-><-><-><->\t\n",
      "<-><-><-><q><-><-><-><->\t\n",
      "按下任意键继续\n",
      "\n",
      "八皇后问题的第12组解\n",
      "<-><-><-><q><-><-><-><->\t\n",
      "<q><-><-><-><-><-><-><->\t\n",
      "<-><-><-><-><q><-><-><->\t\n",
      "<-><-><-><-><-><-><-><q>\t\n",
      "<-><-><-><-><-><q><-><->\t\n",
      "<-><-><q><-><-><-><-><->\t\n",
      "<-><-><-><-><-><-><q><->\t\n",
      "<-><q><-><-><-><-><-><->\t\n",
      "按下任意键继续\n",
      "\n",
      "八皇后问题的第13组解\n",
      "<-><q><-><-><-><-><-><->\t\n",
      "<-><-><-><-><-><q><-><->\t\n",
      "<q><-><-><-><-><-><-><->\t\n",
      "<-><-><-><-><-><-><q><->\t\n",
      "<-><-><-><q><-><-><-><->\t\n",
      "<-><-><-><-><-><-><-><q>\t\n",
      "<-><-><q><-><-><-><-><->\t\n",
      "<-><-><-><-><q><-><-><->\t\n",
      "按下任意键继续\n",
      "\n",
      "八皇后问题的第14组解\n",
      "<-><-><-><-><q><-><-><->\t\n",
      "<-><-><q><-><-><-><-><->\t\n",
      "<q><-><-><-><-><-><-><->\t\n",
      "<-><-><-><-><-><-><q><->\t\n",
      "<-><q><-><-><-><-><-><->\t\n",
      "<-><-><-><-><-><-><-><q>\t\n",
      "<-><-><-><-><-><q><-><->\t\n",
      "<-><-><-><q><-><-><-><->\t\n",
      "按下任意键继续\n",
      "\n",
      "八皇后问题的第15组解\n",
      "<-><-><-><-><-><-><-><q>\t\n",
      "<-><-><q><-><-><-><-><->\t\n",
      "<q><-><-><-><-><-><-><->\t\n",
      "<-><-><-><-><-><q><-><->\t\n",
      "<-><q><-><-><-><-><-><->\t\n",
      "<-><-><-><-><q><-><-><->\t\n",
      "<-><-><-><-><-><-><q><->\t\n",
      "<-><-><-><q><-><-><-><->\t\n",
      "按下任意键继续\n",
      "\n",
      "八皇后问题的第16组解\n",
      "<-><-><-><q><-><-><-><->\t\n",
      "<-><-><-><-><-><q><-><->\t\n",
      "<q><-><-><-><-><-><-><->\t\n",
      "<-><-><-><-><q><-><-><->\t\n",
      "<-><q><-><-><-><-><-><->\t\n",
      "<-><-><-><-><-><-><-><q>\t\n",
      "<-><-><q><-><-><-><-><->\t\n",
      "<-><-><-><-><-><-><q><->\t\n",
      "按下任意键继续\n",
      "\n",
      "八皇后问题的第17组解\n",
      "<-><-><-><-><q><-><-><->\t\n",
      "<-><-><-><-><-><-><q><->\t\n",
      "<q><-><-><-><-><-><-><->\t\n",
      "<-><-><-><q><-><-><-><->\t\n",
      "<-><q><-><-><-><-><-><->\t\n",
      "<-><-><-><-><-><-><-><q>\t\n",
      "<-><-><-><-><-><q><-><->\t\n",
      "<-><-><q><-><-><-><-><->\t\n",
      "按下任意键继续\n",
      "\n",
      "八皇后问题的第18组解\n",
      "<-><-><-><-><-><q><-><->\t\n",
      "<-><-><q><-><-><-><-><->\t\n",
      "<q><-><-><-><-><-><-><->\t\n",
      "<-><-><-><-><-><-><-><q>\t\n",
      "<-><-><-><q><-><-><-><->\t\n",
      "<-><q><-><-><-><-><-><->\t\n",
      "<-><-><-><-><-><-><q><->\t\n",
      "<-><-><-><-><q><-><-><->\t\n",
      "按下任意键继续\n",
      "\n",
      "八皇后问题的第19组解\n",
      "<-><-><-><-><q><-><-><->\t\n",
      "<-><-><q><-><-><-><-><->\t\n",
      "<q><-><-><-><-><-><-><->\t\n",
      "<-><-><-><-><-><q><-><->\t\n",
      "<-><-><-><-><-><-><-><q>\t\n",
      "<-><q><-><-><-><-><-><->\t\n",
      "<-><-><-><q><-><-><-><->\t\n",
      "<-><-><-><-><-><-><q><->\t\n",
      "按下任意键继续\n",
      "\n",
      "八皇后问题的第20组解\n",
      "<-><-><-><-><-><q><-><->\t\n",
      "<-><-><q><-><-><-><-><->\t\n",
      "<q><-><-><-><-><-><-><->\t\n",
      "<-><-><-><-><-><-><-><q>\t\n",
      "<-><-><-><-><q><-><-><->\t\n",
      "<-><q><-><-><-><-><-><->\t\n",
      "<-><-><-><q><-><-><-><->\t\n",
      "<-><-><-><-><-><-><q><->\t\n",
      "按下任意键继续\n",
      "\n",
      "八皇后问题的第21组解\n",
      "<-><-><-><q><-><-><-><->\t\n",
      "<-><-><-><-><-><-><-><q>\t\n",
      "<q><-><-><-><-><-><-><->\t\n",
      "<-><-><q><-><-><-><-><->\t\n",
      "<-><-><-><-><-><q><-><->\t\n",
      "<-><q><-><-><-><-><-><->\t\n",
      "<-><-><-><-><-><-><q><->\t\n",
      "<-><-><-><-><q><-><-><->\t\n",
      "按下任意键继续\n",
      "\n",
      "八皇后问题的第22组解\n",
      "<-><-><-><-><-><-><-><q>\t\n",
      "<-><-><-><q><-><-><-><->\t\n",
      "<q><-><-><-><-><-><-><->\t\n",
      "<-><-><q><-><-><-><-><->\t\n",
      "<-><-><-><-><-><q><-><->\t\n",
      "<-><q><-><-><-><-><-><->\t\n",
      "<-><-><-><-><-><-><q><->\t\n",
      "<-><-><-><-><q><-><-><->\t\n",
      "按下任意键继续\n",
      "\n",
      "八皇后问题的第23组解\n",
      "<-><-><-><q><-><-><-><->\t\n",
      "<-><-><-><-><-><-><-><q>\t\n",
      "<q><-><-><-><-><-><-><->\t\n",
      "<-><-><-><-><q><-><-><->\t\n",
      "<-><-><-><-><-><-><q><->\t\n",
      "<-><q><-><-><-><-><-><->\t\n",
      "<-><-><-><-><-><q><-><->\t\n",
      "<-><-><q><-><-><-><-><->\t\n",
      "按下任意键继续\n",
      "\n",
      "八皇后问题的第24组解\n",
      "<-><-><-><q><-><-><-><->\t\n",
      "<-><-><-><-><-><-><q><->\t\n",
      "<q><-><-><-><-><-><-><->\t\n",
      "<-><-><-><-><-><-><-><q>\t\n",
      "<-><-><-><-><q><-><-><->\t\n",
      "<-><q><-><-><-><-><-><->\t\n",
      "<-><-><-><-><-><q><-><->\t\n",
      "<-><-><q><-><-><-><-><->\t\n",
      "按下任意键继续\n",
      "\n",
      "八皇后问题的第25组解\n",
      "<-><-><-><-><-><q><-><->\t\n",
      "<-><-><-><q><-><-><-><->\t\n",
      "<q><-><-><-><-><-><-><->\t\n",
      "<-><-><-><-><q><-><-><->\t\n",
      "<-><-><-><-><-><-><-><q>\t\n",
      "<-><q><-><-><-><-><-><->\t\n",
      "<-><-><-><-><-><-><q><->\t\n",
      "<-><-><q><-><-><-><-><->\t\n"
     ]
    }
   ],
   "source": [
    "decide_position(0)"
   ]
  },
  {
   "cell_type": "markdown",
   "metadata": {},
   "source": [
    "# 算术表达式 前序，中序和后序\n"
   ]
  },
  {
   "cell_type": "markdown",
   "metadata": {},
   "source": [
    "中序法转换为后续法或者前序法，用堆栈存储，计算时更为方便，其中后续法只需要一个堆栈而前序法需要2个"
   ]
  },
  {
   "cell_type": "markdown",
   "metadata": {},
   "source": [
    "中序法转为后续法：从左往右读，操作数直接存入堆栈，运算符存入运算符堆栈，实行打得过打，平手或者打不过就跳过的原则"
   ]
  },
  {
   "cell_type": "markdown",
   "metadata": {},
   "source": [
    "错误的，但是不知道错在哪了"
   ]
  },
  {
   "cell_type": "code",
   "execution_count": 60,
   "metadata": {
    "scrolled": true
   },
   "outputs": [
    {
     "name": "stdout",
     "output_type": "stream",
     "text": [
      "请输入中序法表达式：\n",
      "能使用的运算符有：+-*/^()\n",
      "1+2*3/4+5-(6+8)\n",
      "123*+4/5+68+-\n"
     ]
    }
   ],
   "source": [
    "#能使用的运算符包括：+-*/()^\n",
    "max=50\n",
    "\n",
    "#定义最多运算符加操作数最多有50个，那么操作数最多有25个\n",
    "stack_operator=[None]*25\n",
    "\n",
    "#指定top=-1\n",
    "top=-1\n",
    "\n",
    "operator=['+','-','*','/','^','(',')']\n",
    "\n",
    "def compare(outside):\n",
    "    global stack_operator\n",
    "    global top\n",
    "    operator=['+','-','*','/','^','(',')']\n",
    "    inside_priority={\n",
    "    #从左往右读，左括号优先级最低\n",
    "        '(':0,\n",
    "        '+':1,\n",
    "        '-':1,\n",
    "        '*':2,\n",
    "        '/':2,\n",
    "        '^':3\n",
    "    }\n",
    "    outside_priority={\n",
    "        '+':1,\n",
    "        '-':1,\n",
    "        '*':2,\n",
    "        '/':2,\n",
    "        '^':3,\n",
    "        '(':4\n",
    "    }\n",
    "    a=''\n",
    "    inside=stack_operator[top]\n",
    "    if outside==')':\n",
    "        while stack_operator[top]!='(':\n",
    "            a=a+inside\n",
    "            top=top-1\n",
    "        #去掉'('\n",
    "        top=top-1\n",
    "        return a\n",
    "    elif outside_priority[outside]>inside_priority[inside]:\n",
    "        top=top+1\n",
    "        stack_operator[top]=outside\n",
    "        return ''\n",
    "    elif outside_priority[outside]<=inside_priority[inside]:\n",
    "        while outside_priority[outside]<=inside_priority[inside] and top!=-1:\n",
    "            a=a+stack_operator[top]\n",
    "            top=top-1\n",
    "        top=top+1\n",
    "        stack_operator[top]=outside\n",
    "        return a\n",
    "    else:\n",
    "        return('出现了问题')\n",
    "    \n",
    "    \n",
    "    \n",
    "print('请输入中序法表达式：')\n",
    "print('能使用的运算符有：+-*/^()')\n",
    "\n",
    "\n",
    "expression=input()\n",
    "post=''\n",
    "\n",
    "for i in expression:\n",
    "    if i not in operator:\n",
    "        post=post+i\n",
    "    elif top==-1:\n",
    "        top=top+1\n",
    "        stack_operator[top]=i\n",
    "    else:\n",
    "        a=compare(i)\n",
    "        post=post+a\n",
    "\n",
    "        \n",
    "while top!=-1:\n",
    "    post=post+stack_operator[top]\n",
    "    top=top-1\n",
    "\n",
    "print(post)"
   ]
  },
  {
   "cell_type": "markdown",
   "metadata": {},
   "source": [
    "正确的"
   ]
  },
  {
   "cell_type": "code",
   "execution_count": 206,
   "metadata": {},
   "outputs": [
    {
     "name": "stdout",
     "output_type": "stream",
     "text": [
      "1+2*3/4+5-(6+8)\n",
      "123*4/+5+68+-\n"
     ]
    }
   ],
   "source": [
    "top=-1\n",
    "stack=[None]*10\n",
    "\n",
    "inside_priority={\n",
    "#从左往右读，左括号优先级最低\n",
    "    '(':0,\n",
    "    '+':1,\n",
    "    '-':1,\n",
    "    '*':2,\n",
    "    '/':2,\n",
    "    '^':3\n",
    "}\n",
    "\n",
    "outside_priority={\n",
    "    '+':1,\n",
    "    '-':1,\n",
    "    '*':2,\n",
    "    '/':2,\n",
    "    '^':3,\n",
    "    '(':4\n",
    "}\n",
    "\n",
    "def is_right_parenthesis(i):\n",
    "    if i == ')':\n",
    "        return 1\n",
    "    else:\n",
    "        return 0\n",
    "\n",
    "def compare(i):\n",
    "    global top\n",
    "    global inside_priority\n",
    "    global outside_priority\n",
    "    outer=outside_priority[i]\n",
    "    inner=inside_priority[stack[top]]\n",
    "    if outer>inner:\n",
    "        return 1\n",
    "    else:\n",
    "        return 0\n",
    "    \n",
    "def is_number(i):\n",
    "    try:\n",
    "        int(i)\n",
    "        return 1\n",
    "    except:\n",
    "        return 0\n",
    "\n",
    "A=input()\n",
    "a=''\n",
    "for i in A:\n",
    "    if is_number(i):\n",
    "        a=a+i\n",
    "    elif top==-1:\n",
    "        top+=1\n",
    "        stack[top]=i\n",
    "    elif is_right_parenthesis(i):\n",
    "        while stack[top]!='(':\n",
    "            a+=stack[top]\n",
    "            top=top-1\n",
    "        top=top-1\n",
    "    elif compare(i):\n",
    "        top=top+1\n",
    "        stack[top]=i\n",
    "    else:\n",
    "        while top!=-1 and compare(i)==0:\n",
    "            a=a+stack[top]\n",
    "            top-=1\n",
    "        top+=1\n",
    "        stack[top]=i\n",
    "\n",
    "while top!=-1:\n",
    "    a+=stack[top]\n",
    "    top-=1\n",
    "print(a)"
   ]
  },
  {
   "cell_type": "code",
   "execution_count": null,
   "metadata": {},
   "outputs": [],
   "source": []
  },
  {
   "cell_type": "code",
   "execution_count": null,
   "metadata": {},
   "outputs": [],
   "source": []
  },
  {
   "cell_type": "code",
   "execution_count": null,
   "metadata": {},
   "outputs": [],
   "source": []
  }
 ],
 "metadata": {
  "kernelspec": {
   "display_name": "Python 3",
   "language": "python",
   "name": "python3"
  },
  "language_info": {
   "codemirror_mode": {
    "name": "ipython",
    "version": 3
   },
   "file_extension": ".py",
   "mimetype": "text/x-python",
   "name": "python",
   "nbconvert_exporter": "python",
   "pygments_lexer": "ipython3",
   "version": "3.6.5"
  }
 },
 "nbformat": 4,
 "nbformat_minor": 2
}
