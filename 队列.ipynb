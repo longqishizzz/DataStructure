{
 "cells": [
  {
   "cell_type": "markdown",
   "metadata": {},
   "source": [
    "队列的特点是先入先出(First In First Out,FIFO)  \n",
    "需要有两个指针，一个指向队伍前端，一个指向队伍尾端"
   ]
  },
  {
   "cell_type": "markdown",
   "metadata": {},
   "source": [
    "### 用列表实现队列"
   ]
  },
  {
   "cell_type": "code",
   "execution_count": 2,
   "metadata": {},
   "outputs": [
    {
     "name": "stdout",
     "output_type": "stream",
     "text": [
      "请输入：0，在队列中加入新数据；1，从队列中弹出数据；2，返回队列；3，退出\n",
      "0\n",
      "请输入数据a\n",
      "请输入：0，在队列中加入新数据；1，从队列中弹出数据；2，返回队列；3，退出\n",
      "0\n",
      "请输入数据b\n",
      "请输入：0，在队列中加入新数据；1，从队列中弹出数据；2，返回队列；3，退出\n",
      "0\n",
      "请输入数据c\n",
      "请输入：0，在队列中加入新数据；1，从队列中弹出数据；2，返回队列；3，退出\n",
      "0\n",
      "请输入数据d\n",
      "请输入：0，在队列中加入新数据；1，从队列中弹出数据；2，返回队列；3，退出\n",
      "0\n",
      "请输入数据e\n",
      "请输入：0，在队列中加入新数据；1，从队列中弹出数据；2，返回队列；3，退出\n",
      "1\n",
      "弹出的数据是a\n",
      "请输入：0，在队列中加入新数据；1，从队列中弹出数据；2，返回队列；3，退出\n",
      "2\n",
      "[None, 'b', 'c', 'd', 'e', None, None, None, None, None]\n",
      "请输入：0，在队列中加入新数据；1，从队列中弹出数据；2，返回队列；3，退出\n",
      "3\n"
     ]
    }
   ],
   "source": [
    "MAX=10\n",
    "queue=[None]*MAX\n",
    "front=-1\n",
    "rear=-1\n",
    "\n",
    "def enqueue(data):\n",
    "    global front\n",
    "    global queue\n",
    "    if front==MAX-1:\n",
    "        print('队列已满')\n",
    "    else:\n",
    "        front+=1\n",
    "        queue[front]=data\n",
    "        \n",
    "def dequeue():\n",
    "    global  queue\n",
    "    global  front\n",
    "    global  rear\n",
    "    if front==rear:\n",
    "        print('队列已空')\n",
    "    else:\n",
    "        rear+=1\n",
    "        print('弹出的数据是{}'.format(queue[rear]))\n",
    "        queue[rear]=None\n",
    "\n",
    "while True:\n",
    "    print('请输入：0，在队列中加入新数据；1，从队列中弹出数据；2，返回队列；3，退出')\n",
    "    A=input()\n",
    "    if A=='0':\n",
    "        a=input('请输入数据')\n",
    "        enqueue(a)\n",
    "    elif A=='1':\n",
    "        dequeue()\n",
    "    elif A=='2':\n",
    "        print(queue)\n",
    "    elif A=='3':\n",
    "        break\n",
    "    else:\n",
    "        print('输入错误，请重新输入')"
   ]
  },
  {
   "cell_type": "code",
   "execution_count": 8,
   "metadata": {},
   "outputs": [],
   "source": [
    "enqueue('a')"
   ]
  },
  {
   "cell_type": "code",
   "execution_count": 9,
   "metadata": {},
   "outputs": [],
   "source": [
    "enqueue('b')\n"
   ]
  },
  {
   "cell_type": "code",
   "execution_count": 10,
   "metadata": {},
   "outputs": [
    {
     "name": "stdout",
     "output_type": "stream",
     "text": [
      "['a', 'b', None, None, None, None, None, None, None, None] 1 -1\n"
     ]
    }
   ],
   "source": [
    "print(queue,front,rear)"
   ]
  },
  {
   "cell_type": "code",
   "execution_count": 11,
   "metadata": {},
   "outputs": [
    {
     "name": "stdout",
     "output_type": "stream",
     "text": [
      "弹出的数据是a\n"
     ]
    }
   ],
   "source": [
    "dequeue()"
   ]
  },
  {
   "cell_type": "code",
   "execution_count": 12,
   "metadata": {},
   "outputs": [
    {
     "name": "stdout",
     "output_type": "stream",
     "text": [
      "[None, 'b', None, None, None, None, None, None, None, None] 1 0\n"
     ]
    }
   ],
   "source": [
    "print(queue,front,rear)"
   ]
  },
  {
   "cell_type": "markdown",
   "metadata": {},
   "source": [
    "### 用链表实现队列"
   ]
  },
  {
   "cell_type": "code",
   "execution_count": 1,
   "metadata": {},
   "outputs": [
    {
     "name": "stdout",
     "output_type": "stream",
     "text": [
      "加入队列请输入1，离开队列请输入2，查询当前队列请输入3，退出请输入0\n",
      "1\n",
      "请输入学生姓名shenz\n",
      "请输入学生成绩100\n",
      "加入队列请输入1，离开队列请输入2，查询当前队列请输入3，退出请输入0\n",
      "1\n",
      "请输入学生姓名zirong \n",
      "请输入学生成绩1\n",
      "加入队列请输入1，离开队列请输入2，查询当前队列请输入3，退出请输入0\n",
      "wanwen\n",
      "加入队列请输入1，离开队列请输入2，查询当前队列请输入3，退出请输入0\n",
      "1\n",
      "请输入学生姓名wanwen\n",
      "请输入学生成绩2\n",
      "加入队列请输入1，离开队列请输入2，查询当前队列请输入3，退出请输入0\n",
      "3\n",
      "学生姓名为shenz，成绩为100\n",
      "学生姓名为zirong ，成绩为1\n",
      "学生姓名为wanwen，成绩为2\n",
      "加入队列请输入1，离开队列请输入2，查询当前队列请输入3，退出请输入0\n",
      "2\n",
      "踢出队列的学生姓名为shenz，成绩为100\n",
      "加入队列请输入1，离开队列请输入2，查询当前队列请输入3，退出请输入0\n",
      "3\n",
      "学生姓名为zirong ，成绩为1\n",
      "学生姓名为wanwen，成绩为2\n",
      "加入队列请输入1，离开队列请输入2，查询当前队列请输入3，退出请输入0\n",
      "2\n",
      "踢出队列的学生姓名为zirong ，成绩为1\n",
      "加入队列请输入1，离开队列请输入2，查询当前队列请输入3，退出请输入0\n",
      "3\n",
      "学生姓名为wanwen，成绩为2\n",
      "加入队列请输入1，离开队列请输入2，查询当前队列请输入3，退出请输入0\n",
      "2\n",
      "踢出队列的学生姓名为wanwen，成绩为2\n",
      "加入队列请输入1，离开队列请输入2，查询当前队列请输入3，退出请输入0\n",
      "3\n",
      "队列已空\n",
      "加入队列请输入1，离开队列请输入2，查询当前队列请输入3，退出请输入0\n",
      "2\n",
      "队列已空\n",
      "加入队列请输入1，离开队列请输入2，查询当前队列请输入3，退出请输入0\n",
      "2\n",
      "队列已空\n",
      "加入队列请输入1，离开队列请输入2，查询当前队列请输入3，退出请输入0\n",
      "0\n"
     ]
    }
   ],
   "source": [
    "front=None\n",
    "rear=None\n",
    "class student:\n",
    "    def __init__(self):\n",
    "        self.name=''\n",
    "        self.score=-1\n",
    "        self.next=None\n",
    "\n",
    "def enqueue(name,score):\n",
    "    global front\n",
    "    global rear\n",
    "    new=student()\n",
    "    new.name=name\n",
    "    new.score=score\n",
    "    if front==None:\n",
    "        #若这是队列的第一个元素\n",
    "        front=new\n",
    "    else:\n",
    "        rear.next=new\n",
    "    rear=new\n",
    "    \n",
    "def dequeue():\n",
    "    global front\n",
    "    global rear\n",
    "    if front==None:\n",
    "        print('队列已空')\n",
    "    else:\n",
    "        print('踢出队列的学生姓名为{}，成绩为{}'.format(front.name,front.score))\n",
    "        front=front.next\n",
    "        \n",
    "def traversal(front):\n",
    "    if front==None:\n",
    "        print('队列已空')\n",
    "    else:\n",
    "        while front!= None:\n",
    "            print('学生姓名为{}，成绩为{}'.format(front.name,front.score))\n",
    "            front=front.next\n",
    "            \n",
    "while True:\n",
    "    print('加入队列请输入1，离开队列请输入2，查询当前队列请输入3，退出请输入0')\n",
    "    A=input()\n",
    "    if A=='0':\n",
    "        break\n",
    "    if A=='1':\n",
    "        a=input('请输入学生姓名')\n",
    "        b=input('请输入学生成绩')\n",
    "        enqueue(a,b)\n",
    "    if A=='2':\n",
    "        dequeue()\n",
    "    if A=='3':\n",
    "        traversal(front)"
   ]
  },
  {
   "cell_type": "markdown",
   "metadata": {},
   "source": [
    "### 环形队列"
   ]
  },
  {
   "cell_type": "markdown",
   "metadata": {},
   "source": [
    "当使用列表来实现队列这一数据结构时，可能会出现队列前面为空，后面满了无法加入队列的情况，这时候，就可以使用环形队列来解决这一问题。"
   ]
  },
  {
   "cell_type": "markdown",
   "metadata": {},
   "source": [
    "环形队列的思想就是将新加入的数据插入到队列前端，但是由于front值才是队列真正的第一个，所以队列还是具有数据先入先出的特点。"
   ]
  },
  {
   "cell_type": "code",
   "execution_count": 1,
   "metadata": {},
   "outputs": [
    {
     "name": "stdout",
     "output_type": "stream",
     "text": [
      "请输入：0，在队列中加入新数据；1，从队列中弹出数据；2，返回队列；3，退出\n",
      "0\n",
      "请输入数据1\n",
      "请输入：0，在队列中加入新数据；1，从队列中弹出数据；2，返回队列；3，退出\n",
      "0\n",
      "请输入数据2\n",
      "请输入：0，在队列中加入新数据；1，从队列中弹出数据；2，返回队列；3，退出\n",
      "0\n",
      "请输入数据3\n",
      "请输入：0，在队列中加入新数据；1，从队列中弹出数据；2，返回队列；3，退出\n",
      "0\n",
      "请输入数据4\n",
      "请输入：0，在队列中加入新数据；1，从队列中弹出数据；2，返回队列；3，退出\n",
      "0\n",
      "请输入数据5\n",
      "请输入：0，在队列中加入新数据；1，从队列中弹出数据；2，返回队列；3，退出\n",
      "0\n",
      "请输入数据6\n",
      "队列已满\n",
      "请输入：0，在队列中加入新数据；1，从队列中弹出数据；2，返回队列；3，退出\n",
      "2\n",
      "['1', '2', '3', '4', '5']\n",
      "请输入：0，在队列中加入新数据；1，从队列中弹出数据；2，返回队列；3，退出\n",
      "1\n",
      "弹出的数据是1\n",
      "请输入：0，在队列中加入新数据；1，从队列中弹出数据；2，返回队列；3，退出\n",
      "1\n",
      "弹出的数据是2\n",
      "请输入：0，在队列中加入新数据；1，从队列中弹出数据；2，返回队列；3，退出\n",
      "1\n",
      "弹出的数据是3\n",
      "请输入：0，在队列中加入新数据；1，从队列中弹出数据；2，返回队列；3，退出\n",
      "0\n",
      "请输入数据6\n",
      "请输入：0，在队列中加入新数据；1，从队列中弹出数据；2，返回队列；3，退出\n",
      "0\n",
      "请输入数据7\n",
      "请输入：0，在队列中加入新数据；1，从队列中弹出数据；2，返回队列；3，退出\n",
      "0\n",
      "请输入数据8\n",
      "请输入：0，在队列中加入新数据；1，从队列中弹出数据；2，返回队列；3，退出\n",
      "0\n",
      "请输入数据\n",
      "队列已满\n",
      "请输入：0，在队列中加入新数据；1，从队列中弹出数据；2，返回队列；3，退出\n",
      "9\n",
      "输入错误，请重新输入\n",
      "请输入：0，在队列中加入新数据；1，从队列中弹出数据；2，返回队列；3，退出\n",
      "\n",
      "输入错误，请重新输入\n",
      "请输入：0，在队列中加入新数据；1，从队列中弹出数据；2，返回队列；3，退出\n",
      "2\n",
      "['6', '7', '8', '4', '5']\n",
      "请输入：0，在队列中加入新数据；1，从队列中弹出数据；2，返回队列；3，退出\n",
      "3\n"
     ]
    }
   ],
   "source": [
    "MAX=5\n",
    "queue=[None]*MAX\n",
    "front=-1\n",
    "rear=-1\n",
    "\n",
    "def enqueue(data):\n",
    "    global front\n",
    "    global rear\n",
    "    global queue\n",
    "    if front==-1 and rear==MAX-1 or queue!=[None]*MAX and front==rear :\n",
    "        print('队列已满')\n",
    "    else:\n",
    "        rear=(rear+1)%MAX\n",
    "        queue[rear]=data\n",
    "        \n",
    "        \n",
    "def dequeue():\n",
    "    global  queue\n",
    "    global  front\n",
    "    global  rear\n",
    "    if queue==[None]*MAX:\n",
    "        print('队列已空')\n",
    "    else:\n",
    "        front=(front+1)%MAX\n",
    "        print('弹出的数据是{}'.format(queue[front]))\n",
    "        queue[front]=None\n",
    "\n",
    "while True:\n",
    "    print('请输入：0，在队列中加入新数据；1，从队列中弹出数据；2，返回队列；3，退出')\n",
    "    A=input()\n",
    "    if A=='0':\n",
    "        a=input('请输入数据')\n",
    "        enqueue(a)\n",
    "    elif A=='1':\n",
    "        dequeue()\n",
    "    elif A=='2':\n",
    "        print(queue)\n",
    "    elif A=='3':\n",
    "        break\n",
    "    else:\n",
    "        print('输入错误，请重新输入')"
   ]
  },
  {
   "cell_type": "code",
   "execution_count": 13,
   "metadata": {},
   "outputs": [
    {
     "data": {
      "text/plain": [
       "-1"
      ]
     },
     "execution_count": 13,
     "metadata": {},
     "output_type": "execute_result"
    }
   ],
   "source": [
    "rear"
   ]
  },
  {
   "cell_type": "code",
   "execution_count": 14,
   "metadata": {},
   "outputs": [
    {
     "data": {
      "text/plain": [
       "2"
      ]
     },
     "execution_count": 14,
     "metadata": {},
     "output_type": "execute_result"
    }
   ],
   "source": [
    "front"
   ]
  },
  {
   "cell_type": "code",
   "execution_count": null,
   "metadata": {},
   "outputs": [],
   "source": []
  }
 ],
 "metadata": {
  "kernelspec": {
   "display_name": "Python 3",
   "language": "python",
   "name": "python3"
  },
  "language_info": {
   "codemirror_mode": {
    "name": "ipython",
    "version": 3
   },
   "file_extension": ".py",
   "mimetype": "text/x-python",
   "name": "python",
   "nbconvert_exporter": "python",
   "pygments_lexer": "ipython3",
   "version": "3.6.5"
  }
 },
 "nbformat": 4,
 "nbformat_minor": 2
}
