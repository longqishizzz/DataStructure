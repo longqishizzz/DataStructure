{
 "cells": [
  {
   "cell_type": "markdown",
   "metadata": {},
   "source": [
    "# 图的数据表示法"
   ]
  },
  {
   "cell_type": "markdown",
   "metadata": {},
   "source": [
    "### 邻接矩阵"
   ]
  },
  {
   "cell_type": "markdown",
   "metadata": {},
   "source": [
    "行表示出度数，列表示入度数，计算所有顶点的度数为O（n2）"
   ]
  },
  {
   "cell_type": "code",
   "execution_count": 26,
   "metadata": {},
   "outputs": [
    {
     "name": "stdout",
     "output_type": "stream",
     "text": [
      "[0][1][0][0][1]\n",
      "[1][0][1][1][0]\n",
      "[0][1][0][1][0]\n",
      "[0][1][1][0][0]\n",
      "[1][0][0][0][0]\n"
     ]
    }
   ],
   "source": [
    "arr=[[0]*6 for row in range(6)]\n",
    "data=[[1,2],[2,1],[1,5],[5,1],[2,3],[3,2],[2,4],[4,2],[3,4],[4,3]]\n",
    "for i in range(10):\n",
    "    a=data[i][0]\n",
    "    b=data[i][1]\n",
    "    arr[a][b]=1\n",
    "for i in range(1,6):\n",
    "    for j in range(1,6):\n",
    "        print('[{}]'.format(arr[i][j]),end='')\n",
    "    print()"
   ]
  },
  {
   "cell_type": "code",
   "execution_count": 27,
   "metadata": {},
   "outputs": [
    {
     "data": {
      "text/plain": [
       "[[0, 0, 0, 0, 0, 0],\n",
       " [0, 0, 1, 0, 0, 1],\n",
       " [0, 1, 0, 1, 1, 0],\n",
       " [0, 0, 1, 0, 1, 0],\n",
       " [0, 0, 1, 1, 0, 0],\n",
       " [0, 1, 0, 0, 0, 0]]"
      ]
     },
     "execution_count": 27,
     "metadata": {},
     "output_type": "execute_result"
    }
   ],
   "source": [
    "arr"
   ]
  },
  {
   "cell_type": "markdown",
   "metadata": {},
   "source": [
    "### 邻接表法"
   ]
  },
  {
   "cell_type": "markdown",
   "metadata": {},
   "source": [
    "n个顶点为表头，m条边为节点，求所有顶点度数所需时间复杂度为O（n+m）"
   ]
  },
  {
   "cell_type": "code",
   "execution_count": 55,
   "metadata": {},
   "outputs": [],
   "source": [
    "class node:\n",
    "    def __init__(self):\n",
    "        self.val=0\n",
    "        self.next=None\n",
    "head=[None]*6"
   ]
  },
  {
   "cell_type": "code",
   "execution_count": 56,
   "metadata": {},
   "outputs": [],
   "source": [
    "data=[[1,2],[2,1],[2,5],[5,2],[2,3],[3,2],[2,4],[4,2],[3,4],[4,3],[3,5],[5,3],[4,5],[5,4]]"
   ]
  },
  {
   "cell_type": "code",
   "execution_count": 62,
   "metadata": {},
   "outputs": [
    {
     "name": "stdout",
     "output_type": "stream",
     "text": [
      "顶点1=>[1][2]\n",
      "顶点2=>[2][1][5][3][4]\n",
      "顶点3=>[3][2][4][5]\n",
      "顶点4=>[4][2][3][5]\n",
      "顶点5=>[5][2][3][4]\n"
     ]
    }
   ],
   "source": [
    "for i in range(1,6):\n",
    "    head[i]=node()\n",
    "    head[i].val=i\n",
    "    ptr=head[i]\n",
    "    print('顶点{}=>[{}]'.format(i,head[i].val),end='')\n",
    "    for j in range(14):\n",
    "        if data[j][0]==i:\n",
    "            newnode=node()\n",
    "            newnode.val=data[j][1]\n",
    "            ptr.next=newnode\n",
    "            ptr=newnode\n",
    "            print('[{}]'.format(ptr.val),end='')\n",
    "    print()"
   ]
  },
  {
   "cell_type": "markdown",
   "metadata": {},
   "source": [
    "### 邻接复合链表"
   ]
  },
  {
   "cell_type": "code",
   "execution_count": null,
   "metadata": {},
   "outputs": [],
   "source": []
  },
  {
   "cell_type": "markdown",
   "metadata": {},
   "source": [
    "### 索引表格法"
   ]
  },
  {
   "cell_type": "markdown",
   "metadata": {},
   "source": [
    "简陋版"
   ]
  },
  {
   "cell_type": "code",
   "execution_count": 20,
   "metadata": {},
   "outputs": [],
   "source": [
    "#数据\n",
    "DATA=[['a','b'],['b','a'],['a','c'],['c','a'],['a','d'],['d','a'],['b','c'],['c','b'],['b','d'],['d','b'],['c','d'],['d','c']]\n",
    "\n",
    "#索引\n",
    "index=[['a',0],['b',0],['c',0],['d',0]]\n",
    "\n",
    "#一维数组\n",
    "lst=[]\n",
    "num=0\n",
    "index[0][1]=num\n",
    "for data in DATA:\n",
    "    if data[0]=='a':\n",
    "        num+=1\n",
    "        lst.append(data[1])\n",
    "index[1][1]=num\n",
    "for data in DATA:\n",
    "    if data[0]=='b':\n",
    "        num+=1\n",
    "        lst.append(data[1])\n",
    "index[2][1]=num\n",
    "for data in DATA:\n",
    "    if data[0]=='c':\n",
    "        num+=1\n",
    "        lst.append(data[1])\n",
    "index[3][1]=num\n",
    "for data in DATA:\n",
    "    if data[0]=='d':\n",
    "        num+=1\n",
    "        lst.append(data[1])\n"
   ]
  },
  {
   "cell_type": "code",
   "execution_count": 23,
   "metadata": {},
   "outputs": [
    {
     "name": "stdout",
     "output_type": "stream",
     "text": [
      "对应的一维数组为：\n",
      "['b', 'c', 'd', 'a', 'c', 'd', 'a', 'b', 'd', 'a', 'b', 'c']\n",
      "\n",
      "对应的索引为：\n",
      "['a', 0]\n",
      "['b', 3]\n",
      "['c', 6]\n",
      "['d', 9]\n"
     ]
    }
   ],
   "source": [
    "print('对应的一维数组为：')\n",
    "print(lst)\n",
    "print()\n",
    "print('对应的索引为：')\n",
    "for i in index:\n",
    "    print(i)\n"
   ]
  },
  {
   "cell_type": "markdown",
   "metadata": {},
   "source": [
    "优化一下，用循环来写"
   ]
  },
  {
   "cell_type": "code",
   "execution_count": 24,
   "metadata": {},
   "outputs": [],
   "source": [
    "#数据\n",
    "DATA=[['a','b'],['b','a'],['a','c'],['c','a'],['a','d'],['d','a'],['b','c'],['c','b'],['b','d'],['d','b'],['c','d'],['d','c']]\n",
    "\n",
    "#索引\n",
    "index=[['a',0],['b',0],['c',0],['d',0]]\n",
    "\n",
    "#一维数组\n",
    "lst=[]\n",
    "num=0\n",
    "\n",
    "for i,label in enumerate(index):\n",
    "    index[i][1]=num\n",
    "    for data in DATA:\n",
    "        if data[0]==label[0]:\n",
    "            num+=1\n",
    "            lst.append(data[1])"
   ]
  },
  {
   "cell_type": "code",
   "execution_count": 25,
   "metadata": {},
   "outputs": [
    {
     "name": "stdout",
     "output_type": "stream",
     "text": [
      "对应的一维数组为：\n",
      "['b', 'c', 'd', 'a', 'c', 'd', 'a', 'b', 'd', 'a', 'b', 'c']\n",
      "\n",
      "对应的索引为：\n",
      "['a', 0]\n",
      "['b', 3]\n",
      "['c', 6]\n",
      "['d', 9]\n"
     ]
    }
   ],
   "source": [
    "print('对应的一维数组为：')\n",
    "print(lst)\n",
    "print()\n",
    "print('对应的索引为：')\n",
    "for i in index:\n",
    "    print(i)"
   ]
  },
  {
   "cell_type": "markdown",
   "metadata": {},
   "source": [
    "# 图的遍历"
   ]
  },
  {
   "cell_type": "markdown",
   "metadata": {},
   "source": [
    "深度优先遍历用到递归和堆栈  \n",
    "广度优先遍历用到队列和堆栈"
   ]
  },
  {
   "cell_type": "code",
   "execution_count": 28,
   "metadata": {},
   "outputs": [],
   "source": [
    "#数据：\n",
    "DATA=[[1,2],[2,1],[1,3],[3,1],\\\n",
    "     [2,4],[4,2],[2,5],[5,2],\\\n",
    "     [3,6],[6,3],[3,7],[7,3],\\\n",
    "     [4,8],[8,4],[5,8],[8,5],\\\n",
    "     [6,8],[8,6],[8,7],[7,8]]"
   ]
  },
  {
   "cell_type": "code",
   "execution_count": 47,
   "metadata": {},
   "outputs": [
    {
     "name": "stdout",
     "output_type": "stream",
     "text": [
      "[0, 1, 1, 0, 0, 0, 0, 0]\n",
      "[1, 0, 0, 1, 1, 0, 0, 0]\n",
      "[1, 0, 0, 0, 0, 1, 1, 0]\n",
      "[0, 1, 0, 0, 0, 0, 0, 1]\n",
      "[0, 1, 0, 0, 0, 0, 0, 1]\n",
      "[0, 0, 1, 0, 0, 0, 0, 1]\n",
      "[0, 0, 1, 0, 0, 0, 0, 1]\n",
      "[0, 0, 0, 1, 1, 1, 1, 0]\n"
     ]
    },
    {
     "data": {
      "text/plain": [
       "[[0, 0, 0, 0, 0, 0, 0, 0, 0],\n",
       " [0, 0, 1, 1, 0, 0, 0, 0, 0],\n",
       " [0, 1, 0, 0, 1, 1, 0, 0, 0],\n",
       " [0, 1, 0, 0, 0, 0, 1, 1, 0],\n",
       " [0, 0, 1, 0, 0, 0, 0, 0, 1],\n",
       " [0, 0, 1, 0, 0, 0, 0, 0, 1],\n",
       " [0, 0, 0, 1, 0, 0, 0, 0, 1],\n",
       " [0, 0, 0, 1, 0, 0, 0, 0, 1],\n",
       " [0, 0, 0, 0, 1, 1, 1, 1, 0]]"
      ]
     },
     "execution_count": 47,
     "metadata": {},
     "output_type": "execute_result"
    }
   ],
   "source": [
    "#将数据用三种表达方式表示出来\n",
    "\n",
    "#邻接矩阵\n",
    "arr=[[0]*9 for i in range(9)]\n",
    "for i in range (9):\n",
    "    for data in DATA:\n",
    "        if data[0]==i:\n",
    "            arr[i][data[1]]=1\n",
    "for i in range(1,9):\n",
    "    print(arr[i][1:9])\n",
    "arr"
   ]
  },
  {
   "cell_type": "code",
   "execution_count": 51,
   "metadata": {},
   "outputs": [
    {
     "name": "stdout",
     "output_type": "stream",
     "text": [
      "顶点1=>23\n",
      "顶点2=>145\n",
      "顶点3=>167\n",
      "顶点4=>28\n",
      "顶点5=>28\n",
      "顶点6=>38\n",
      "顶点7=>38\n",
      "顶点8=>4567\n"
     ]
    }
   ],
   "source": [
    "#邻接链表\n",
    "DATA=[[1,2],[2,1],[1,3],[3,1],\\\n",
    "     [2,4],[4,2],[2,5],[5,2],\\\n",
    "     [3,6],[6,3],[3,7],[7,3],\\\n",
    "     [4,8],[8,4],[5,8],[8,5],\\\n",
    "     [6,8],[8,6],[8,7],[7,8]]\n",
    "\n",
    "class Node():\n",
    "    def __init__(self):\n",
    "        self.value=0\n",
    "        self.next=None\n",
    "\n",
    "head=[None]*8\n",
    "\n",
    "for i in range(8):\n",
    "    head[i]=Node()\n",
    "    ptr=head[i]\n",
    "    ptr.value=i+1\n",
    "    for data in DATA:\n",
    "        if data[0]==i+1:\n",
    "            newnode=Node()\n",
    "            newnode.value=data[1]\n",
    "            ptr.next=newnode\n",
    "            ptr=newnode\n",
    "            \n",
    "for i in range(8):\n",
    "    print('顶点{}=>'.format(head[i].value),end='')\n",
    "    ptr=head[i].next\n",
    "    while ptr!=None:\n",
    "        print(ptr.value,end='')\n",
    "        ptr=ptr.next\n",
    "    print()"
   ]
  },
  {
   "cell_type": "code",
   "execution_count": 56,
   "metadata": {},
   "outputs": [
    {
     "name": "stdout",
     "output_type": "stream",
     "text": [
      "一维数组\n",
      "[2, 3, 1, 4, 5, 1, 6, 7, 2, 8, 2, 8, 3, 8, 3, 8, 4, 5, 6, 7]\n",
      "===============\n",
      "索引\n",
      "[[1, 0], [2, 2], [3, 5], [4, 8], [5, 10], [6, 12], [7, 14], [8, 16]]\n"
     ]
    }
   ],
   "source": [
    "#索引表格法\n",
    "DATA=[[1,2],[2,1],[1,3],[3,1],\\\n",
    "     [2,4],[4,2],[2,5],[5,2],\\\n",
    "     [3,6],[6,3],[3,7],[7,3],\\\n",
    "     [4,8],[8,4],[5,8],[8,5],\\\n",
    "     [6,8],[8,6],[8,7],[7,8]]\n",
    "#索引\n",
    "index=[]\n",
    "for i in range(1,9):\n",
    "    index.append([i,0])\n",
    "#一维数组\n",
    "lst=[]\n",
    "num=0\n",
    "for i in range(8):\n",
    "    index[i][1]=num\n",
    "    for data in DATA:\n",
    "        if data[0]==i+1:\n",
    "            lst.append(data[1])\n",
    "            num+=1\n",
    "print('一维数组')\n",
    "print(lst)\n",
    "print('===============')\n",
    "print('索引')\n",
    "print(index)"
   ]
  },
  {
   "cell_type": "markdown",
   "metadata": {},
   "source": [
    "## 深度优先遍历"
   ]
  },
  {
   "cell_type": "code",
   "execution_count": 87,
   "metadata": {},
   "outputs": [
    {
     "name": "stdout",
     "output_type": "stream",
     "text": [
      "数据为：\n",
      "[0, 0, 0, 0, 0, 0, 0, 0, 0]\n",
      "[0, 0, 1, 1, 0, 0, 0, 0, 0]\n",
      "[0, 1, 0, 0, 1, 1, 0, 0, 0]\n",
      "[0, 1, 0, 0, 0, 0, 1, 1, 0]\n",
      "[0, 0, 1, 0, 0, 0, 0, 0, 1]\n",
      "[0, 0, 1, 0, 0, 0, 0, 0, 1]\n",
      "[0, 0, 0, 1, 0, 0, 0, 0, 1]\n",
      "[0, 0, 0, 1, 0, 0, 0, 0, 1]\n",
      "[0, 0, 0, 0, 1, 1, 1, 1, 0]\n",
      "深度优先遍历的点\n"
     ]
    }
   ],
   "source": [
    "'''\n",
    "手画了一遍，确实是深度优先遍历，但是确实没有用到堆栈，递归就够了\n",
    "'''\n",
    "#数据\n",
    "print('数据为：')\n",
    "for i in arr:\n",
    "    print(i)\n",
    "    \n",
    "class Node():\n",
    "    def __init__(self):\n",
    "        self.value=0\n",
    "        self.next=None\n",
    "    \n",
    "run=[0]*8    \n",
    "\n",
    "head=Node()\n",
    "ptr=head\n",
    "\n",
    "def dfs(current):\n",
    "    #令当前点run为1\n",
    "    run[current-1]=1\n",
    "    if current:    \n",
    "        print(current,end='')\n",
    "    #读取与当前点相邻的点,current为当前点的值而不是索引\n",
    "    #若当前点已经被检索，则不管，若未被检索，则递归\n",
    "    for i,value in enumerate(arr[current][1:9]):\n",
    "        if value == 1:\n",
    "            if run[i]==0:\n",
    "                dfs(i+1)\n",
    "print('深度优先遍历的点')\n",
    "#print(dfs(1))\n",
    "    "
   ]
  },
  {
   "cell_type": "code",
   "execution_count": 88,
   "metadata": {},
   "outputs": [
    {
     "name": "stdout",
     "output_type": "stream",
     "text": [
      "12485637None\n"
     ]
    }
   ],
   "source": [
    "print(dfs(1))"
   ]
  },
  {
   "cell_type": "code",
   "execution_count": 2,
   "metadata": {},
   "outputs": [
    {
     "name": "stdout",
     "output_type": "stream",
     "text": [
      "[0, 1, 1, 0, 0, 0, 0, 0]\n",
      "[1, 0, 0, 1, 1, 0, 0, 0]\n",
      "[1, 0, 0, 0, 0, 1, 1, 0]\n",
      "[0, 1, 0, 0, 0, 0, 0, 1]\n",
      "[0, 1, 0, 0, 0, 0, 0, 1]\n",
      "[0, 0, 1, 0, 0, 0, 0, 1]\n",
      "[0, 0, 1, 0, 0, 0, 0, 1]\n",
      "[0, 0, 0, 1, 1, 1, 1, 0]\n"
     ]
    },
    {
     "data": {
      "text/plain": [
       "[[0, 0, 0, 0, 0, 0, 0, 0, 0],\n",
       " [0, 0, 1, 1, 0, 0, 0, 0, 0],\n",
       " [0, 1, 0, 0, 1, 1, 0, 0, 0],\n",
       " [0, 1, 0, 0, 0, 0, 1, 1, 0],\n",
       " [0, 0, 1, 0, 0, 0, 0, 0, 1],\n",
       " [0, 0, 1, 0, 0, 0, 0, 0, 1],\n",
       " [0, 0, 0, 1, 0, 0, 0, 0, 1],\n",
       " [0, 0, 0, 1, 0, 0, 0, 0, 1],\n",
       " [0, 0, 0, 0, 1, 1, 1, 1, 0]]"
      ]
     },
     "execution_count": 2,
     "metadata": {},
     "output_type": "execute_result"
    }
   ],
   "source": [
    "DATA=[[1,2],[2,1],[1,3],[3,1],\\\n",
    "     [2,4],[4,2],[2,5],[5,2],\\\n",
    "     [3,6],[6,3],[3,7],[7,3],\\\n",
    "     [4,8],[8,4],[5,8],[8,5],\\\n",
    "     [6,8],[8,6],[8,7],[7,8]]\n",
    "arr=[[0]*9 for i in range(9)]\n",
    "for i in range (9):\n",
    "    for data in DATA:\n",
    "        if data[0]==i:\n",
    "            arr[i][data[1]]=1\n",
    "for i in range(1,9):\n",
    "    print(arr[i][1:9])\n",
    "arr"
   ]
  },
  {
   "cell_type": "code",
   "execution_count": 20,
   "metadata": {},
   "outputs": [
    {
     "name": "stdout",
     "output_type": "stream",
     "text": [
      "13786524"
     ]
    }
   ],
   "source": [
    "#使用链表版本\n",
    "\n",
    "\n",
    "#定义stack\n",
    "class Stack():\n",
    "    def __init__(self):\n",
    "        self.value=0\n",
    "        self.next=None\n",
    "        \n",
    "head=Stack()\n",
    "ptr=head\n",
    "#从某一点开始，选择未被检索过的点，随机选择一个与该点关联的点打印，将其他点压入堆栈，弹出堆栈递归\n",
    "\n",
    "#run记录点是否被检索\n",
    "run=[0]*8\n",
    "def dfs(current,run,ptr,head):\n",
    "    '''\n",
    "    从current点开始，选择未被检索过的点，随机选择一个与该点关联的点打印，将其他点压入堆栈，弹出堆栈递归\n",
    "    '''\n",
    "    #将current点记为已被检索，打印出该点\n",
    "    run[current-1]=1\n",
    "    print(current,end='')\n",
    "    if run!=[1]*8:\n",
    "        #搜索和current点相关联的点，且未被检索，压入堆栈\n",
    "        for i,value in enumerate(arr[current]):\n",
    "            if value==1:\n",
    "                #判断是否被检索过,若未被检索过则压入堆栈\n",
    "                if run[i-1]==0:\n",
    "                    newnode=Stack()\n",
    "                    newnode.value=i\n",
    "                    ptr.next=newnode\n",
    "                    ptr=newnode\n",
    "        #弹出一个点，若该点未被检索过，进行递归操作\n",
    "        while run[ptr.value-1]==1:\n",
    "            point=head\n",
    "            while point.next!=ptr:\n",
    "                point=point.next\n",
    "            ptr=point\n",
    "        next_current=ptr.value\n",
    "        dfs(next_current,run,ptr,head)\n",
    "dfs(1,run,ptr,head)    "
   ]
  },
  {
   "cell_type": "code",
   "execution_count": 39,
   "metadata": {},
   "outputs": [
    {
     "name": "stdout",
     "output_type": "stream",
     "text": [
      "13786524"
     ]
    }
   ],
   "source": [
    "#使用堆栈版本\n",
    "class Node():\n",
    "    def __init__(self):\n",
    "        self.value=0\n",
    "        self.next=None\n",
    "def add(value):\n",
    "    '''\n",
    "    ptr为当前指针，value为新加入的点的值\n",
    "    '''\n",
    "    global ptr\n",
    "    newnode=Node()\n",
    "    newnode.value=value\n",
    "    newnode.next=ptr\n",
    "    ptr=newnode\n",
    "def pop():\n",
    "    global ptr\n",
    "    '''\n",
    "    从堆栈里面弹出一个节点\n",
    "    '''\n",
    "    ptr=ptr.next\n",
    "    \n",
    "head=Node()\n",
    "ptr=head\n",
    "run=[0]*8\n",
    "\n",
    "def dfs(current,run):\n",
    "    '''\n",
    "    从current点开始，选择未被检索过的点，随机选择一个与该点关联的点打印，将其他点压入堆栈，弹出堆栈递归\n",
    "    '''\n",
    "    global ptr\n",
    "    global head\n",
    "    #将current点记为已被检索，打印出该点\n",
    "    run[current-1]=1\n",
    "    print(current,end='')\n",
    "    if run!=[1]*8:\n",
    "        #搜索和current点相关联的点，且未被检索，压入堆栈\n",
    "        for i,value in enumerate(arr[current]):\n",
    "            if value==1:\n",
    "                #判断是否被检索过,若未被检索过则压入堆栈\n",
    "                if run[i-1]==0:\n",
    "                    add(i)\n",
    "        #弹出一个点，若该点未被检索过，进行递归操作\n",
    "        while run[ptr.value-1]==1:\n",
    "            pop()\n",
    "        next_current=ptr.value\n",
    "        dfs(next_current,run)\n",
    "dfs(1,run)    "
   ]
  },
  {
   "cell_type": "code",
   "execution_count": null,
   "metadata": {},
   "outputs": [],
   "source": []
  },
  {
   "cell_type": "code",
   "execution_count": null,
   "metadata": {},
   "outputs": [],
   "source": []
  },
  {
   "cell_type": "code",
   "execution_count": null,
   "metadata": {},
   "outputs": [],
   "source": []
  },
  {
   "cell_type": "markdown",
   "metadata": {},
   "source": [
    "## 广度优先遍历"
   ]
  },
  {
   "cell_type": "markdown",
   "metadata": {},
   "source": [
    "广度优先遍历需要用到递归和队列，由于队列长度未知，所以采用链表实现队列"
   ]
  },
  {
   "cell_type": "code",
   "execution_count": 1,
   "metadata": {},
   "outputs": [],
   "source": [
    "DATA=[[1,2],[2,1],[1,3],[3,1],\\\n",
    "     [2,4],[4,2],[2,5],[5,2],\\\n",
    "     [3,6],[6,3],[3,7],[7,3],\\\n",
    "     [4,8],[8,4],[5,8],[8,5],\\\n",
    "     [6,8],[8,6],[8,7],[7,8]]"
   ]
  },
  {
   "cell_type": "code",
   "execution_count": 12,
   "metadata": {},
   "outputs": [
    {
     "name": "stdout",
     "output_type": "stream",
     "text": [
      "顶点1:=>23\n",
      "顶点2:=>145\n",
      "顶点3:=>167\n",
      "顶点4:=>28\n",
      "顶点5:=>28\n",
      "顶点6:=>38\n",
      "顶点7:=>38\n",
      "顶点8:=>4567\n"
     ]
    }
   ],
   "source": [
    "#深度优先遍历中用的是邻接矩阵法存储的数据\n",
    "#广度优先遍历就用邻接链表法存储数据\n",
    "class Node():\n",
    "    def __init__(self):\n",
    "        self.value=0\n",
    "        self.next=None\n",
    "head=[None]*8\n",
    "for i in range(8):\n",
    "    head[i]=Node()\n",
    "    ptr=head[i]\n",
    "    print('顶点{}:=>'.format(i+1),end='')\n",
    "    for data in DATA:\n",
    "        if data[0]==i+1:\n",
    "            newnode=Node()\n",
    "            newnode.value=data[1]\n",
    "            ptr.next=newnode\n",
    "            ptr=newnode\n",
    "            print(ptr.value,end='')\n",
    "    print()"
   ]
  },
  {
   "cell_type": "code",
   "execution_count": 16,
   "metadata": {},
   "outputs": [],
   "source": [
    "run=[0]*8\n",
    "\n",
    "front=None\n",
    "rear=None\n",
    "\n",
    "#队列的添加\n",
    "def enqueue(value):\n",
    "    global rear\n",
    "    global front\n",
    "    newnode=Node()\n",
    "    newnode.value=value\n",
    "    #当队列是空队列的时候，队首和队尾都指向新点\n",
    "    if front==None:\n",
    "        rear=newnode\n",
    "        front=newnode\n",
    "    #当队列不是空的时候，队尾添加一个元素\n",
    "    else:\n",
    "        rear.next=newnode\n",
    "        rear=newnode\n",
    "\n",
    "#队列的删除    \n",
    "def dequeue():\n",
    "    global front\n",
    "    if front == None:\n",
    "        print('队列已空，无法删除')\n",
    "    else:\n",
    "        front =front.next"
   ]
  },
  {
   "cell_type": "code",
   "execution_count": 17,
   "metadata": {},
   "outputs": [],
   "source": [
    "enqueue(1)\n",
    "enqueue(2)\n",
    "enqueue(3)"
   ]
  },
  {
   "cell_type": "code",
   "execution_count": 18,
   "metadata": {},
   "outputs": [
    {
     "name": "stdout",
     "output_type": "stream",
     "text": [
      "1\n",
      "3\n"
     ]
    }
   ],
   "source": [
    "print(front.value)\n",
    "print(rear.value)"
   ]
  },
  {
   "cell_type": "code",
   "execution_count": 19,
   "metadata": {},
   "outputs": [],
   "source": [
    "def bfs(current):\n",
    "    global front \n",
    "    global rear\n",
    "    print(current,end='')\n",
    "    run[current-1]=1\n",
    "    if run!=[1]*8:\n",
    "        ptr=head[current-1].next\n",
    "        while ptr!=None:\n",
    "            if run[ptr.value-1]==0:\n",
    "                enqueue(ptr.value)\n",
    "            ptr=ptr.next\n",
    "        new_current=front.value\n",
    "        while run[new_current-1]==1:\n",
    "            dequeue()\n",
    "            new_current=front.value\n",
    "        bfs(new_current)\n",
    "            "
   ]
  },
  {
   "cell_type": "code",
   "execution_count": 20,
   "metadata": {},
   "outputs": [
    {
     "name": "stdout",
     "output_type": "stream",
     "text": [
      "12345678"
     ]
    }
   ],
   "source": [
    "bfs(1)"
   ]
  },
  {
   "cell_type": "markdown",
   "metadata": {},
   "source": [
    "# 最小生成树"
   ]
  },
  {
   "cell_type": "markdown",
   "metadata": {},
   "source": [
    "### Kruskal算法"
   ]
  },
  {
   "cell_type": "code",
   "execution_count": 33,
   "metadata": {},
   "outputs": [],
   "source": [
    "DATA=[[1,2,6],[1,6,12],[1,5,10],[2,3,3],[2,4,5],[2,6,8],[3,4,7],[4,6,11],[4,5,9],[5,6,16]]"
   ]
  },
  {
   "cell_type": "code",
   "execution_count": 34,
   "metadata": {},
   "outputs": [],
   "source": [
    "class Edge():\n",
    "    def __init__(self):\n",
    "        self.start=0\n",
    "        self.to=0\n",
    "        self.value=0\n",
    "        self.find=0\n",
    "        self.next=None\n",
    "\n",
    "#将数据存入链表中        \n",
    "head=Edge()\n",
    "ptr=head\n",
    "for data in DATA:\n",
    "    edge=Edge()\n",
    "    edge.start=data[0]\n",
    "    edge.to=data[1]\n",
    "    edge.value=data[2]\n",
    "    ptr.next=edge\n",
    "    ptr=edge\n",
    "\n",
    "#定义函数查找最小边\n",
    "def find_edge(head):\n",
    "    ptr=head.next\n",
    "    retptr=Edge()\n",
    "    mincost=100\n",
    "    while ptr!=None:\n",
    "        if ptr.value<mincost and ptr.find==0:\n",
    "            mincost=ptr.value\n",
    "            retptr=ptr\n",
    "        ptr=ptr.next\n",
    "    retptr.find=1\n",
    "    return retptr\n",
    "\n",
    "VERTS=6\n",
    "v=[0]*6\n",
    "#最小成本生成树\n",
    "def mintree(head):\n",
    "    global v\n",
    "    result=0\n",
    "    while True:\n",
    "        ptr=find_edge(head)\n",
    "        if v[ptr.start-1]==1 and v[ptr.to-1]==1:\n",
    "            result=1\n",
    "        else:\n",
    "            result=0\n",
    "            v[ptr.start-1]=1\n",
    "            v[ptr.to-1]=1\n",
    "        if result==0:\n",
    "            print('起点{}，终点{}，路径长度为{}'.format(ptr.start,ptr.to,ptr.value))\n",
    "        if v==[1]*6:\n",
    "            break"
   ]
  },
  {
   "cell_type": "code",
   "execution_count": null,
   "metadata": {},
   "outputs": [],
   "source": []
  },
  {
   "cell_type": "code",
   "execution_count": 36,
   "metadata": {},
   "outputs": [
    {
     "name": "stdout",
     "output_type": "stream",
     "text": [
      "起点2，终点3，路径长度为3\n",
      "起点2，终点4，路径长度为5\n",
      "起点1，终点2，路径长度为6\n",
      "起点2，终点6，路径长度为8\n",
      "起点4，终点5，路径长度为9\n"
     ]
    }
   ],
   "source": [
    "mintree(head)"
   ]
  },
  {
   "cell_type": "markdown",
   "metadata": {},
   "source": [
    "## 图的最短路径"
   ]
  },
  {
   "cell_type": "markdown",
   "metadata": {},
   "source": [
    "### 单点对全部顶点"
   ]
  },
  {
   "cell_type": "code",
   "execution_count": 18,
   "metadata": {},
   "outputs": [
    {
     "name": "stdout",
     "output_type": "stream",
     "text": [
      "从点1到1点的最短距离为：0\n",
      "从点1到2点的最短距离为：29\n",
      "从点1到3点的最短距离为：59\n",
      "从点1到4点的最短距离为：64\n",
      "从点1到5点的最短距离为：87\n",
      "从点1到6点的最短距离为：139\n"
     ]
    }
   ],
   "source": [
    "NUMBER=6\n",
    "\n",
    "#图邻接矩阵\n",
    "GRAPH_MATRIX=[[9999]*NUMBER for i in range(NUMBER)]\n",
    "\n",
    "#路径距离\n",
    "pathdistance=[0]*NUMBER\n",
    "\n",
    "#记录哪些点被选中过\n",
    "v=[0]*NUMBER\n",
    "\n",
    "DATA=[[1,2,29],[2,3,30],[2,4,35],[3,5,28],[3,6,87],[4,5,42],[4,6,75],[5,6,97]]\n",
    "def buildgraph_metrix(matrix,DATA):\n",
    "    for data in DATA:\n",
    "        matrix[data[0]-1][data[1]-1]=data[2]\n",
    "buildgraph_metrix(GRAPH_MATRIX,DATA)\n",
    "for i in range(NUMBER):\n",
    "    for j in range(NUMBER):\n",
    "        if i == j :\n",
    "            GRAPH_MATRIX[i][j]=0\n",
    "def distance(a,b,GRAPH_MATRIX):\n",
    "    a=a-1\n",
    "    b=b-1\n",
    "    return GRAPH_MATRIX[a][b]\n",
    "\n",
    "def shortestpath(selected_point):\n",
    "    \"\"\"\n",
    "    输入选择的点s，计算除了s点与剩余的点与该点的距离\n",
    "    距离列表中保存了目前为止各个点到初始点的距离\n",
    "    若存在某点a，使得s点计算出来的距离与初始点到s点的距离之和小于初始点到a点的距离，更新初始点到a点的距离。\n",
    "    \"\"\"\n",
    "    global pathdistance\n",
    "    global v\n",
    "    p=100000 #大于9999\n",
    "    if v==[0]*6:\n",
    "        pathdistance=GRAPH_MATRIX[selected_point-1]\n",
    "        v[selected_point-1]=1\n",
    "        for i,value in enumerate(pathdistance):\n",
    "            if value<p and v[i]==0:\n",
    "                p=value\n",
    "                nextpoint=i+1\n",
    "    else:\n",
    "        v[selected_point-1]=1\n",
    "        #s点与各个点之间的距离\n",
    "        newdistance=GRAPH_MATRIX[selected_point-1]\n",
    "\n",
    "        #更新当前距离列表\n",
    "        #若初始点到s点的距离 加上 s点到a点的距离 小于初始点到a点的距离，则更新 初始点到a点的距离\n",
    "        for i,value in enumerate(newdistance):\n",
    "            if pathdistance[i]>value+pathdistance[selected_point-1]:\n",
    "                pathdistance[i]=value+pathdistance[selected_point-1]\n",
    "        #选择下一个点        \n",
    "        for i,value in enumerate(pathdistance):\n",
    "            if value<p and v[i]==0:\n",
    "                p=value\n",
    "                nextpoint=i+1\n",
    "    if v!=[1]*6:\n",
    "        shortestpath(nextpoint)\n",
    "shortestpath(1)\n",
    "for i,value in enumerate(pathdistance):\n",
    "    print('从点{}到{}点的最短距离为：{}'.format(1,i+1,value))"
   ]
  },
  {
   "cell_type": "code",
   "execution_count": null,
   "metadata": {},
   "outputs": [],
   "source": []
  },
  {
   "cell_type": "code",
   "execution_count": null,
   "metadata": {},
   "outputs": [],
   "source": []
  },
  {
   "cell_type": "code",
   "execution_count": null,
   "metadata": {},
   "outputs": [],
   "source": []
  },
  {
   "cell_type": "code",
   "execution_count": null,
   "metadata": {},
   "outputs": [],
   "source": []
  },
  {
   "cell_type": "code",
   "execution_count": null,
   "metadata": {},
   "outputs": [],
   "source": []
  },
  {
   "cell_type": "code",
   "execution_count": null,
   "metadata": {},
   "outputs": [],
   "source": []
  },
  {
   "cell_type": "code",
   "execution_count": null,
   "metadata": {},
   "outputs": [],
   "source": []
  },
  {
   "cell_type": "code",
   "execution_count": null,
   "metadata": {},
   "outputs": [],
   "source": []
  },
  {
   "cell_type": "code",
   "execution_count": null,
   "metadata": {},
   "outputs": [],
   "source": []
  },
  {
   "cell_type": "code",
   "execution_count": null,
   "metadata": {},
   "outputs": [],
   "source": []
  }
 ],
 "metadata": {
  "kernelspec": {
   "display_name": "Python 3",
   "language": "python",
   "name": "python3"
  },
  "language_info": {
   "codemirror_mode": {
    "name": "ipython",
    "version": 3
   },
   "file_extension": ".py",
   "mimetype": "text/x-python",
   "name": "python",
   "nbconvert_exporter": "python",
   "pygments_lexer": "ipython3",
   "version": "3.6.5"
  }
 },
 "nbformat": 4,
 "nbformat_minor": 2
}
