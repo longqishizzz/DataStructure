{
 "cells": [
  {
   "cell_type": "markdown",
   "metadata": {},
   "source": [
    "# 单向链表"
   ]
  },
  {
   "cell_type": "markdown",
   "metadata": {},
   "source": [
    "### 建立单向链表"
   ]
  },
  {
   "cell_type": "markdown",
   "metadata": {},
   "source": [
    "用类来实现"
   ]
  },
  {
   "cell_type": "code",
   "execution_count": 1,
   "metadata": {},
   "outputs": [],
   "source": [
    "class student:\n",
    "    def __init__(self):\n",
    "        self.name = ''\n",
    "        self.score = 0\n",
    "        self.next = None"
   ]
  },
  {
   "cell_type": "code",
   "execution_count": 2,
   "metadata": {},
   "outputs": [
    {
     "name": "stdout",
     "output_type": "stream",
     "text": [
      "(1)新增 （2）离开=>\n",
      "请输入一个选项：1\n",
      "姓名：001\n",
      "学号：001\n",
      "数学成绩：100\n",
      "英语成绩：100\n",
      "(1)新增 （2）离开=>\n",
      "请输入一个选项：1\n",
      "姓名：002\n",
      "学号：002\n",
      "数学成绩：100\n",
      "英语成绩：100\n",
      "(1)新增 （2）离开=>\n",
      "请输入一个选项：2\n"
     ]
    }
   ],
   "source": [
    "head = student()\n",
    "ptr = head\n",
    "select = 0\n",
    "while select!=2:\n",
    "    print('(1)新增 （2）离开=>')\n",
    "    try:\n",
    "        select = int(input('请输入一个选项：'))\n",
    "    except :\n",
    "        print('输入错误')\n",
    "        print('请重新输入')\n",
    "    if select == 1:\n",
    "        new_data=student()\n",
    "        new_data.name=input('姓名：')\n",
    "        new_data.no=input('学号：')\n",
    "        new_data.Math=eval(input('数学成绩：'))\n",
    "        new_data.Eng=eval(input('英语成绩：'))\n",
    "        ptr.next=new_data\n",
    "        new_data.next=None\n",
    "        ptr=ptr.next"
   ]
  },
  {
   "cell_type": "markdown",
   "metadata": {},
   "source": [
    "也就是说，存在一个开头，它的指针指向下一个实例，下一个实例的指针指向下一个实例，以此类推。要想访问第n和实例，必须访问前n-1个实例"
   ]
  },
  {
   "cell_type": "markdown",
   "metadata": {},
   "source": [
    "### 遍历单向链表"
   ]
  },
  {
   "cell_type": "code",
   "execution_count": 3,
   "metadata": {},
   "outputs": [
    {
     "name": "stdout",
     "output_type": "stream",
     "text": [
      "姓名：001\t 学号001\t 数学成绩100.00\t 英语成绩100.0\n",
      "姓名：002\t 学号002\t 数学成绩100.00\t 英语成绩100.0\n"
     ]
    }
   ],
   "source": [
    "Msum= Esum=student_no=0\n",
    "ptr = head.next\n",
    "while ptr!=None:\n",
    "    print('姓名：{}\\t 学号{}\\t 数学成绩{:.2f}\\t 英语成绩{:.1f}'.format(ptr.name,ptr.no,ptr.Math,ptr.Eng))\n",
    "    Msum=Msum+ptr.Math\n",
    "    Esum=Esum+ptr.Eng\n",
    "    student_no=student_no+1\n",
    "    ptr=ptr.next"
   ]
  },
  {
   "cell_type": "markdown",
   "metadata": {},
   "source": [
    "设计一个python程序，可以让用户输入数据来新增学生数据节点，并建立一个单向链表。用户输入结束后，可遍历此链表并显示内容，并求出当前链表中所有学生的数学与英语的平均成绩。"
   ]
  },
  {
   "cell_type": "code",
   "execution_count": 4,
   "metadata": {},
   "outputs": [],
   "source": [
    "class student:\n",
    "    def __init__(self):\n",
    "        self.name = ''\n",
    "        self.Math = 0\n",
    "        self.Eng = 0\n",
    "        self.no = ''\n",
    "        self.next = None"
   ]
  },
  {
   "cell_type": "code",
   "execution_count": 5,
   "metadata": {},
   "outputs": [
    {
     "name": "stdout",
     "output_type": "stream",
     "text": [
      "(1)新增 （2）离开=>\n",
      "请输入一个选项：1\n",
      "姓名：小明\n",
      "学号：001\n",
      "数学成绩：100\n",
      "英语成绩：100\n",
      "\n",
      "(1)新增 （2）离开=>\n",
      "请输入一个选项：1\n",
      "姓名：小李\n",
      "学号：002\n",
      "数学成绩：100\n",
      "英语成绩：100\n",
      "\n",
      "(1)新增 （2）离开=>\n",
      "请输入一个选项：2\n",
      "\n",
      "姓名：小明\t 学号001\t 数学成绩100.0\t 英语成绩100.0\n",
      "姓名：小李\t 学号002\t 数学成绩100.0\t 英语成绩100.0\n",
      "__________\n",
      "本链表中学生的数学平均成绩：100.0，英语平均成绩：100.0\n"
     ]
    }
   ],
   "source": [
    "Msum= Esum=num=student_no=0\n",
    "head=student()\n",
    "ptr = head\n",
    "select = 0\n",
    "\n",
    "while select!=2:\n",
    "    print('(1)新增 （2）离开=>')\n",
    "    try:\n",
    "        select = int(input('请输入一个选项：'))\n",
    "    except ValueError:\n",
    "        print('输入错误')\n",
    "        print('请重新输入')\n",
    "    if select == 1:\n",
    "        new_data=student()\n",
    "        new_data.name=input('姓名：')\n",
    "        new_data.no=input('学号：')\n",
    "        new_data.Math=eval(input('数学成绩：'))\n",
    "        new_data.Eng=eval(input('英语成绩：'))\n",
    "        ptr.next=new_data\n",
    "        new_data.next=None\n",
    "        ptr=ptr.next\n",
    "        num=num+1\n",
    "        \n",
    "    ptr=head.next\n",
    "    print()\n",
    "while ptr!=None:\n",
    "    print('姓名：{:2}\\t 学号{:2}\\t 数学成绩{:.1f}\\t 英语成绩{:.1f}'.format(ptr.name,ptr.no,ptr.Math,ptr.Eng))\n",
    "    Msum=Msum+ptr.Math\n",
    "    Esum=Esum+ptr.Eng\n",
    "    student_no=student_no+1\n",
    "    ptr=ptr.next\n",
    "    \n",
    "if student_no !=0:\n",
    "    print('_'*10)\n",
    "    print('本链表中学生的数学平均成绩：{:.1f}，英语平均成绩：{:.1f}'\\\n",
    "         .format(Msum/student_no,Esum/student_no))"
   ]
  },
  {
   "cell_type": "markdown",
   "metadata": {},
   "source": [
    "next就是指针，会指向下一个实例的内存位置，通过不断给实例分配指针，从而可以访问所有的实例"
   ]
  },
  {
   "cell_type": "markdown",
   "metadata": {},
   "source": [
    "### 在单向链表中插入新节点"
   ]
  },
  {
   "cell_type": "markdown",
   "metadata": {},
   "source": [
    "当节点在开头时  \n",
    "newcode.next=head.next  \n",
    "head.next=newcode"
   ]
  },
  {
   "cell_type": "markdown",
   "metadata": {},
   "source": [
    "当节点在末尾时  \n",
    "ptr.next = newcode  \n",
    "newcoed.next=None"
   ]
  },
  {
   "cell_type": "markdown",
   "metadata": {},
   "source": [
    "当节点在中间部位时  \n",
    "newcode.next = x.next  \n",
    "x.next = newcode"
   ]
  },
  {
   "cell_type": "markdown",
   "metadata": {},
   "source": [
    "**实现一个程序，能够插入新的数据**"
   ]
  },
  {
   "cell_type": "markdown",
   "metadata": {},
   "source": [
    "将数据插入到某一num后面，若num不在表中，则插入到表格第一个位置，且将该数据设置为head"
   ]
  },
  {
   "cell_type": "code",
   "execution_count": 6,
   "metadata": {},
   "outputs": [
    {
     "name": "stdout",
     "output_type": "stream",
     "text": [
      "员工编号：1001，薪水：123\n",
      "员工编号：1002，薪水：124\n",
      "员工编号：1003，薪水：125\n",
      "员工编号：2121，薪水：121\n",
      "员工编号：1212，薪水：331\n"
     ]
    }
   ],
   "source": [
    "#定义员工类\n",
    "class employee:\n",
    "    def __init__(self):\n",
    "        self.num=0\n",
    "        self.salary=0\n",
    "        self.name=''\n",
    "        self.next=None\n",
    "        \n",
    "#引入数据库数据\n",
    "data=[[1001,123],[1002,124],[1003,125],[2121,121],[1212,331]]\n",
    "namedata=['Allen','Scott','Marry','John','Mark']\n",
    "\n",
    "for i in range(5):\n",
    "    print('员工编号：{}，薪水：{}'.format(data[i][0],data[i][1]))\n",
    "    \n",
    "head=employee()\n",
    "head.next=None\n"
   ]
  },
  {
   "cell_type": "code",
   "execution_count": 7,
   "metadata": {},
   "outputs": [],
   "source": [
    "import sys\n",
    "if not head:\n",
    "    print('Error,内存分配失败！！\\n')\n",
    "    sys.exit(1)"
   ]
  },
  {
   "cell_type": "code",
   "execution_count": 8,
   "metadata": {},
   "outputs": [],
   "source": [
    "head.num=data[0][0]\n",
    "head.salary=data[0][1]\n",
    "head.name=namedata[0]\n",
    "head.next=None\n",
    "ptr=head\n",
    "for i in range(1,5):\n",
    "    newnode=employee()\n",
    "    newnode.num=data[i][0]\n",
    "    newnode.salary=data[i][1]\n",
    "    newnode.name=namedata[i]\n",
    "    newnode.next=None\n",
    "    ptr.next=newnode\n",
    "    ptr=ptr.next"
   ]
  },
  {
   "cell_type": "code",
   "execution_count": 9,
   "metadata": {},
   "outputs": [],
   "source": [
    "#定义函数添加新节点\n",
    "#同理，插入时，表尾和表中间操作也可以是一样的\n",
    "def insertnode(head,ptr,num,salary,name):\n",
    "    Insertnode=employee()\n",
    "    Insertnode.num=num\n",
    "    Insertnode.salary=salary\n",
    "    Insertnode.name=name\n",
    "    Insertnode.next=None\n",
    "    #插入表头\n",
    "    if ptr==None:\n",
    "        Insertnode.next=head\n",
    "        return Insertnode\n",
    "    else:\n",
    "        #插入表尾\n",
    "        if ptr.next==None:\n",
    "            ptr.next=Insertnode\n",
    "        #插入中间\n",
    "        else:\n",
    "            Insertnode.next=ptr.next\n",
    "            ptr.next=Insertnode\n",
    "    return head\n"
   ]
  },
  {
   "cell_type": "code",
   "execution_count": 10,
   "metadata": {},
   "outputs": [],
   "source": [
    "#查找当前插入位置\n",
    "def findnode(head,num):\n",
    "    ptr=head\n",
    "    while ptr!=None:\n",
    "        if ptr.num==num:\n",
    "            return ptr\n",
    "        ptr=ptr.next\n",
    "    return ptr"
   ]
  },
  {
   "cell_type": "code",
   "execution_count": 11,
   "metadata": {},
   "outputs": [
    {
     "name": "stdout",
     "output_type": "stream",
     "text": [
      "请输入需要插入其后的员工编号，如果输入的编号不在此链表中，\n",
      "新输入的员工节点将视为此链表的链表头部，要结束插入过程，请输入-1：1003\n",
      "请输入新插入的员工的编号：1020\n",
      "请输入新插入员工的薪水：100\n",
      "请输入新员工的姓名：piyyer\n",
      "\n",
      "请输入需要插入其后的员工编号，如果输入的编号不在此链表中，\n",
      "新输入的员工节点将视为此链表的链表头部，要结束插入过程，请输入-1：1212\n",
      "请输入新插入的员工的编号：1321\n",
      "请输入新插入员工的薪水：1212\n",
      "请输入新员工的姓名：omit\n",
      "\n",
      "请输入需要插入其后的员工编号，如果输入的编号不在此链表中，\n",
      "新输入的员工节点将视为此链表的链表头部，要结束插入过程，请输入-1：-1\n"
     ]
    }
   ],
   "source": [
    "#插入数据\n",
    "position=0\n",
    "while (True):\n",
    "    print('请输入需要插入其后的员工编号，如果输入的编号不在此链表中，')\n",
    "    position=int(input('新输入的员工节点将视为此链表的链表头部，要结束插入过程，请输入-1：'))\n",
    "    \n",
    "    if position == -1:\n",
    "        break\n",
    "    else:\n",
    "        ptr=findnode(head,position)\n",
    "        new_num=int(input('请输入新插入的员工的编号：'))\n",
    "        new_salary=int(input('请输入新插入员工的薪水：'))\n",
    "        new_name=input('请输入新员工的姓名：')\n",
    "        head=insertnode(head,ptr,new_num,new_salary,new_name)\n",
    "    print()\n",
    "    "
   ]
  },
  {
   "cell_type": "code",
   "execution_count": 12,
   "metadata": {},
   "outputs": [
    {
     "name": "stdout",
     "output_type": "stream",
     "text": [
      "员工编号：1001，员工工资：123，员工姓名：Allen\n",
      "员工编号：1002，员工工资：124，员工姓名：Scott\n",
      "员工编号：1003，员工工资：125，员工姓名：Marry\n",
      "员工编号：1020，员工工资：100，员工姓名：piyyer\n",
      "员工编号：2121，员工工资：121，员工姓名：John\n",
      "员工编号：1212，员工工资：331，员工姓名：Mark\n",
      "员工编号：1321，员工工资：1212，员工姓名：omit\n"
     ]
    }
   ],
   "source": [
    "ptr=head\n",
    "while ptr!=None:\n",
    "    print('员工编号：{}，员工工资：{}，员工姓名：{}'.format(ptr.num,ptr.salary,ptr.name))\n",
    "    ptr=ptr.next"
   ]
  },
  {
   "cell_type": "markdown",
   "metadata": {},
   "source": [
    "## 在单向链表中删除节点"
   ]
  },
  {
   "cell_type": "code",
   "execution_count": 13,
   "metadata": {},
   "outputs": [
    {
     "name": "stdout",
     "output_type": "stream",
     "text": [
      "员工编号：1001，薪水：123\n",
      "员工编号：1002，薪水：124\n",
      "员工编号：1003，薪水：125\n",
      "员工编号：2121，薪水：121\n",
      "员工编号：1212，薪水：331\n"
     ]
    }
   ],
   "source": [
    "#定义类\n",
    "class employee():\n",
    "    def __init__(self):\n",
    "        self.num=0\n",
    "        self.salary=0\n",
    "        self.name=''\n",
    "        self.next=None\n",
    "        \n",
    "data=[[1001,123],[1002,124],[1003,125],[2121,121],[1212,331]]\n",
    "namedata=['Allen','Scott','Marry','John','Mark']\n",
    "\n",
    "for i in range(5):\n",
    "    print('员工编号：{}，薪水：{}'.format(data[i][0],data[i][1]))"
   ]
  },
  {
   "cell_type": "code",
   "execution_count": 14,
   "metadata": {},
   "outputs": [],
   "source": [
    "#根据数据库建立链表\n",
    "head=employee()\n",
    "head.next=None\n",
    "ptr=head\n",
    "for i in range (5):\n",
    "    newnode=employee()\n",
    "    newnode.num=data[i][0]\n",
    "    newnode.salary=data[i][1]\n",
    "    newnode.name=namedata[i]\n",
    "    newnode.next=None\n",
    "    ptr.next=newnode\n",
    "    ptr=ptr.next\n",
    "    "
   ]
  },
  {
   "cell_type": "code",
   "execution_count": 15,
   "metadata": {},
   "outputs": [
    {
     "name": "stdout",
     "output_type": "stream",
     "text": [
      "num:1001,salary:123,name:Allen\n",
      "num:1002,salary:124,name:Scott\n",
      "num:1003,salary:125,name:Marry\n",
      "num:2121,salary:121,name:John\n",
      "num:1212,salary:331,name:Mark\n"
     ]
    }
   ],
   "source": [
    "ptr=head.next\n",
    "while ptr!=None:\n",
    "    print('num:{},salary:{},name:{}'.format(ptr.num,ptr.salary,ptr.name))\n",
    "    ptr=ptr.next"
   ]
  },
  {
   "cell_type": "code",
   "execution_count": 16,
   "metadata": {},
   "outputs": [],
   "source": [
    "#删除节点有三种情况，表头，表尾，中间,但是表尾和中间操作是一样的\n",
    "\n",
    "#根据当前num提供的数值，来确定删除节点的位置\n",
    "def findnode(num):\n",
    "    ptr=head\n",
    "    while ptr!=None:\n",
    "        if ptr.num==num:\n",
    "            return ptr\n",
    "        ptr=ptr.next\n",
    "    return ptr\n",
    "def del_ptr(head,ptr):\n",
    "    #三种情况\n",
    "    #情况1，若删除表头\n",
    "    top=head\n",
    "    if ptr==top:\n",
    "        head=top.next\n",
    "        print('已经删除编号为{}的员工'.format(ptr.num))\n",
    "    #情况2，若删除表中和尾\n",
    "    else:\n",
    "        while top.next!=ptr:\n",
    "            top=top.next\n",
    "        top.next=ptr.next\n",
    "        print('已经删除编号为{}的员工'.format(ptr.num))\n",
    "    return head"
   ]
  },
  {
   "cell_type": "code",
   "execution_count": 17,
   "metadata": {},
   "outputs": [],
   "source": [
    "num=1003\n",
    "ptr=findnode(1003)"
   ]
  },
  {
   "cell_type": "code",
   "execution_count": 18,
   "metadata": {},
   "outputs": [
    {
     "name": "stdout",
     "output_type": "stream",
     "text": [
      "已经删除编号为1003的员工\n"
     ]
    },
    {
     "data": {
      "text/plain": [
       "<__main__.employee at 0x143aa129320>"
      ]
     },
     "execution_count": 18,
     "metadata": {},
     "output_type": "execute_result"
    }
   ],
   "source": [
    "del_ptr(head,ptr)"
   ]
  },
  {
   "cell_type": "code",
   "execution_count": 19,
   "metadata": {},
   "outputs": [
    {
     "name": "stdout",
     "output_type": "stream",
     "text": [
      "已经删除编号为1001的员工\n"
     ]
    },
    {
     "data": {
      "text/plain": [
       "<__main__.employee at 0x143aa129320>"
      ]
     },
     "execution_count": 19,
     "metadata": {},
     "output_type": "execute_result"
    }
   ],
   "source": [
    "num=1001\n",
    "ptr=findnode(num)\n",
    "del_ptr(head,ptr)"
   ]
  },
  {
   "cell_type": "code",
   "execution_count": 20,
   "metadata": {},
   "outputs": [
    {
     "name": "stdout",
     "output_type": "stream",
     "text": [
      "num:1002,salary:124,name:Scott\n",
      "num:2121,salary:121,name:John\n",
      "num:1212,salary:331,name:Mark\n"
     ]
    }
   ],
   "source": [
    "ptr=head.next\n",
    "while ptr!=None:\n",
    "    print('num:{},salary:{},name:{}'.format(ptr.num,ptr.salary,ptr.name))\n",
    "    ptr=ptr.next"
   ]
  },
  {
   "cell_type": "markdown",
   "metadata": {},
   "source": [
    "## 单向链表的反转"
   ]
  },
  {
   "cell_type": "markdown",
   "metadata": {},
   "source": [
    "需要三个指针，分别用来，记录和传播  \n",
    "例如，p负责向前传播  \n",
    "q是反转后的指针  \n",
    "r是中介，达到传递的作用"
   ]
  },
  {
   "cell_type": "markdown",
   "metadata": {},
   "source": [
    "p是头指针，q指向None，那么需要将p指向q，因为q是反转后的指针，所以有  \n",
    "q.next=原q(内存)，  \n",
    "但是这样就循环了，需要用一个指针来记录q内存，  \n",
    "r=q  \n",
    "q.next=r  \n",
    "此时的q应该指向p的内存  \n",
    "r=q  \n",
    "q=p  \n",
    "q.next=r  \n",
    "但是这样p.next的信息就丢失了，所以需要p=p.next  \n",
    "r=q(r指向1)  \n",
    "q=p（q指向2）  \n",
    "p=p.next（p指向3）  \n",
    "q.next=r（2指向1）  \n",
    "\n",
    "下一次循环时  \n",
    "r=q(r指向2)  \n",
    "q=p（q指向3）  \n",
    "p=p.next（p指向4）  \n",
    "q.next=r（3指向2）  "
   ]
  },
  {
   "cell_type": "code",
   "execution_count": 21,
   "metadata": {},
   "outputs": [],
   "source": [
    "#给一个头指针，反转链表\n",
    "def invert(x):\n",
    "    p=x\n",
    "    q=None\n",
    "    while p!=None:\n",
    "        r=q\n",
    "        q=p\n",
    "        p=p.next\n",
    "        q.next=r\n",
    "    return q"
   ]
  },
  {
   "cell_type": "code",
   "execution_count": 22,
   "metadata": {},
   "outputs": [
    {
     "name": "stdout",
     "output_type": "stream",
     "text": [
      "员工编号：1001，薪水：123\n",
      "员工编号：1002，薪水：124\n",
      "员工编号：1003，薪水：125\n",
      "员工编号：2121，薪水：121\n",
      "员工编号：1212，薪水：331\n"
     ]
    }
   ],
   "source": [
    "class employee:\n",
    "    def __init__(self):\n",
    "        self.num=0\n",
    "        self.salary=0\n",
    "        self.name=''\n",
    "        self.next=None\n",
    "        \n",
    "#引入数据库数据\n",
    "data=[[1001,123],[1002,124],[1003,125],[2121,121],[1212,331]]\n",
    "namedata=['Allen','Scott','Marry','John','Mark']\n",
    "\n",
    "for i in range(5):\n",
    "    print('员工编号：{}，薪水：{}'.format(data[i][0],data[i][1]))\n",
    "    \n",
    "head=employee()\n",
    "head.next=None"
   ]
  },
  {
   "cell_type": "code",
   "execution_count": 23,
   "metadata": {},
   "outputs": [
    {
     "name": "stdout",
     "output_type": "stream",
     "text": [
      "num:0,salary:0,name:\n",
      "num:1001,salary:123,name:Allen\n",
      "num:1002,salary:124,name:Scott\n",
      "num:1003,salary:125,name:Marry\n",
      "num:2121,salary:121,name:John\n",
      "num:1212,salary:331,name:Mark\n"
     ]
    }
   ],
   "source": [
    "#建立链表\n",
    "head=employee()\n",
    "head.next=None\n",
    "ptr=head\n",
    "for i in range (5):\n",
    "    newnode=employee()\n",
    "    newnode.num=data[i][0]\n",
    "    newnode.salary=data[i][1]\n",
    "    newnode.name=namedata[i]\n",
    "    newnode.next=None\n",
    "    ptr.next=newnode\n",
    "    ptr=ptr.next\n",
    "    \n",
    "ptr=head\n",
    "while ptr!=None:\n",
    "    print('num:{},salary:{},name:{}'.format(ptr.num,ptr.salary,ptr.name))\n",
    "    ptr=ptr.next"
   ]
  },
  {
   "cell_type": "code",
   "execution_count": 24,
   "metadata": {},
   "outputs": [],
   "source": [
    "#反转链表\n",
    "head=invert(head)"
   ]
  },
  {
   "cell_type": "code",
   "execution_count": 25,
   "metadata": {},
   "outputs": [
    {
     "name": "stdout",
     "output_type": "stream",
     "text": [
      "num:1212,salary:331,name:Mark\n",
      "num:2121,salary:121,name:John\n",
      "num:1003,salary:125,name:Marry\n",
      "num:1002,salary:124,name:Scott\n",
      "num:1001,salary:123,name:Allen\n",
      "num:0,salary:0,name:\n"
     ]
    }
   ],
   "source": [
    "ptr=head\n",
    "while ptr!=None:\n",
    "    print('num:{},salary:{},name:{}'.format(ptr.num,ptr.salary,ptr.name))\n",
    "    ptr=ptr.next"
   ]
  },
  {
   "cell_type": "markdown",
   "metadata": {},
   "source": [
    "## 单向链表的级联"
   ]
  },
  {
   "cell_type": "markdown",
   "metadata": {},
   "source": [
    "单向链表的级联和加入一个新的数据一样，只需要将最后一个ptr指向新的链表就可以了"
   ]
  },
  {
   "cell_type": "code",
   "execution_count": 26,
   "metadata": {},
   "outputs": [],
   "source": [
    "#ptr1,ptr2分别表示两个指针头部\n",
    "def concatlist(ptr1,ptr2):\n",
    "    ptr=ptr1\n",
    "    while ptr!=None:\n",
    "        ptr=ptr.next\n",
    "    ptr.next=ptr2\n",
    "    return ptr1"
   ]
  },
  {
   "cell_type": "markdown",
   "metadata": {},
   "source": [
    "## 多项式链表表示法"
   ]
  },
  {
   "cell_type": "markdown",
   "metadata": {},
   "source": [
    "实例的第一个属性存储系数，第二个属性存储指数，一个实例表示多项式的一项"
   ]
  },
  {
   "cell_type": "code",
   "execution_count": null,
   "metadata": {},
   "outputs": [],
   "source": []
  }
 ],
 "metadata": {
  "kernelspec": {
   "display_name": "Python 3",
   "language": "python",
   "name": "python3"
  },
  "language_info": {
   "codemirror_mode": {
    "name": "ipython",
    "version": 3
   },
   "file_extension": ".py",
   "mimetype": "text/x-python",
   "name": "python",
   "nbconvert_exporter": "python",
   "pygments_lexer": "ipython3",
   "version": "3.6.5"
  }
 },
 "nbformat": 4,
 "nbformat_minor": 2
}
