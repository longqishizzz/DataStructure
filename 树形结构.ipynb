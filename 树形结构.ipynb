{
 "cells": [
  {
   "cell_type": "markdown",
   "metadata": {},
   "source": [
    "### 用列表实现二叉树"
   ]
  },
  {
   "cell_type": "markdown",
   "metadata": {},
   "source": [
    "用列表实现二叉树优点是子节点的父节点方便查询，缺点是列表一开始的大小需要固定  \n",
    "根节点对应列表的索引是n，那么左子树就是2n，右子树就是2n+1  \n",
    "由于python从0开始计数，所以节点是n，左子树是2n，右子树是2n+1"
   ]
  },
  {
   "cell_type": "code",
   "execution_count": 14,
   "metadata": {},
   "outputs": [],
   "source": [
    "Btree=[-1]*32\n",
    "def creat_btree(data,Btree):\n",
    "    for num in data:\n",
    "        i=0\n",
    "        if Btree[i]==-1:\n",
    "            Btree[i]=num\n",
    "        else:\n",
    "            while Btree[i]!=-1:\n",
    "                if num>Btree[i]:\n",
    "                    i=2*i+2\n",
    "                if num<Btree[i]:\n",
    "                    i=2*i+1\n",
    "            Btree[i]=num\n",
    "    return Btree"
   ]
  },
  {
   "cell_type": "code",
   "execution_count": 15,
   "metadata": {},
   "outputs": [
    {
     "data": {
      "text/plain": [
       "[0,\n",
       " -1,\n",
       " 6,\n",
       " -1,\n",
       " -1,\n",
       " 3,\n",
       " 7,\n",
       " -1,\n",
       " -1,\n",
       " -1,\n",
       " -1,\n",
       " 2,\n",
       " 5,\n",
       " -1,\n",
       " 8,\n",
       " -1,\n",
       " -1,\n",
       " -1,\n",
       " -1,\n",
       " -1,\n",
       " -1,\n",
       " -1,\n",
       " -1,\n",
       " -1,\n",
       " -1,\n",
       " 4,\n",
       " -1,\n",
       " -1,\n",
       " -1,\n",
       " -1,\n",
       " 9,\n",
       " -1]"
      ]
     },
     "execution_count": 15,
     "metadata": {},
     "output_type": "execute_result"
    }
   ],
   "source": [
    "data=[0,6,3,5,4,7,8,9,2]\n",
    "creat_btree(data,Btree)"
   ]
  },
  {
   "cell_type": "code",
   "execution_count": 18,
   "metadata": {},
   "outputs": [
    {
     "data": {
      "text/plain": [
       "[6, 3, 7, 2, 5, -1, 8, -1, -1, 4, -1, -1, -1, -1, 9, -1]"
      ]
     },
     "execution_count": 18,
     "metadata": {},
     "output_type": "execute_result"
    }
   ],
   "source": [
    "Btree=[-1]*16\n",
    "data=[6,3,5,4,7,8,9,2]\n",
    "creat_btree(data,Btree)"
   ]
  },
  {
   "cell_type": "markdown",
   "metadata": {},
   "source": [
    "### 用链表实现二叉树"
   ]
  },
  {
   "cell_type": "markdown",
   "metadata": {},
   "source": [
    "优点是方便增加和删除节点，缺点是实现较为复杂  \n",
    "每个节点需要有两个指针，分别表示左子树和右子树"
   ]
  },
  {
   "cell_type": "code",
   "execution_count": 2,
   "metadata": {},
   "outputs": [],
   "source": [
    "class Btree:\n",
    "    def __init__(self):\n",
    "        self.value=None\n",
    "        self.left=None\n",
    "        self.right=None\n",
    "\n",
    "def add_value(value,root):\n",
    "    if root.value==None:\n",
    "        newnode=Btree()\n",
    "        newnode.value=value\n",
    "        root=newnode\n",
    "        return root\n",
    "    else:\n",
    "        top=root\n",
    "        while top!=None:\n",
    "            if value>top.value:\n",
    "                ptr=top\n",
    "                top=top.right\n",
    "            elif value<top.value:\n",
    "                ptr=top\n",
    "                top=top.left\n",
    "        newnode=Btree()\n",
    "        newnode.value=value\n",
    "        if ptr.value>value:\n",
    "            ptr.left=newnode\n",
    "        elif ptr.value<value:\n",
    "            ptr.right=newnode\n",
    "        root=root\n",
    "        return root\n",
    "    \n"
   ]
  },
  {
   "cell_type": "code",
   "execution_count": 3,
   "metadata": {
    "scrolled": true
   },
   "outputs": [],
   "source": [
    "root=Btree()\n",
    "values=[5,6,24,8,12,3,17,1,9]\n",
    "for value in values:\n",
    "    root=add_value(value,root)"
   ]
  },
  {
   "cell_type": "code",
   "execution_count": 32,
   "metadata": {},
   "outputs": [
    {
     "name": "stdout",
     "output_type": "stream",
     "text": [
      "左子树的值：\n",
      "3\n",
      "1\n"
     ]
    }
   ],
   "source": [
    "print('左子树的值：')\n",
    "top=root.left\n",
    "while top!=None:\n",
    "    print(top.value)\n",
    "    top=top.left"
   ]
  },
  {
   "cell_type": "code",
   "execution_count": 33,
   "metadata": {
    "scrolled": true
   },
   "outputs": [
    {
     "name": "stdout",
     "output_type": "stream",
     "text": [
      "右子树的值：\n",
      "6\n",
      "24\n"
     ]
    }
   ],
   "source": [
    "print('右子树的值：')\n",
    "top=root.right\n",
    "while top!=None:\n",
    "    print(top.value)\n",
    "    top=top.right"
   ]
  },
  {
   "cell_type": "markdown",
   "metadata": {},
   "source": [
    "## 二叉树的遍历"
   ]
  },
  {
   "cell_type": "markdown",
   "metadata": {},
   "source": [
    "二叉树的遍历有三种，分别是：  \n",
    "前序：ABC  \n",
    "中序：BAC  \n",
    "后序：BCA\n",
    "它们的区别在于根节点的位置分别位于前中后"
   ]
  },
  {
   "cell_type": "markdown",
   "metadata": {},
   "source": [
    "### 中序"
   ]
  },
  {
   "cell_type": "code",
   "execution_count": 45,
   "metadata": {},
   "outputs": [],
   "source": [
    "def inorder(root):\n",
    "    if root!=None:\n",
    "        inorder(root.left)\n",
    "        print('{}'.format(root.value),end=' ')\n",
    "        inorder(root.right)"
   ]
  },
  {
   "cell_type": "code",
   "execution_count": 46,
   "metadata": {},
   "outputs": [
    {
     "name": "stdout",
     "output_type": "stream",
     "text": [
      "1 3 5 6 8 9 12 17 24 "
     ]
    }
   ],
   "source": [
    "inorder(root)"
   ]
  },
  {
   "cell_type": "code",
   "execution_count": null,
   "metadata": {},
   "outputs": [],
   "source": []
  },
  {
   "cell_type": "markdown",
   "metadata": {},
   "source": [
    "### 后序"
   ]
  },
  {
   "cell_type": "code",
   "execution_count": 13,
   "metadata": {},
   "outputs": [],
   "source": [
    "def postorder(root):\n",
    "    if root!=None:\n",
    "        postorder(root.left)\n",
    "        postorder(root.right)\n",
    "        print(root.value,end=' ')"
   ]
  },
  {
   "cell_type": "code",
   "execution_count": 14,
   "metadata": {},
   "outputs": [
    {
     "name": "stdout",
     "output_type": "stream",
     "text": [
      "1 3 9 17 12 8 24 6 5 "
     ]
    }
   ],
   "source": [
    "postorder(root)"
   ]
  },
  {
   "cell_type": "code",
   "execution_count": 51,
   "metadata": {},
   "outputs": [],
   "source": [
    "def preorder(root):\n",
    "    if root!=None:\n",
    "        print(root.value,end=' ')\n",
    "        preorder(root.left)\n",
    "        preorder(root.right)"
   ]
  },
  {
   "cell_type": "code",
   "execution_count": 52,
   "metadata": {},
   "outputs": [
    {
     "name": "stdout",
     "output_type": "stream",
     "text": [
      "5 3 1 6 24 8 12 9 17 "
     ]
    }
   ],
   "source": [
    "preorder(root)"
   ]
  },
  {
   "cell_type": "markdown",
   "metadata": {},
   "source": [
    "### 层次遍历"
   ]
  },
  {
   "cell_type": "code",
   "execution_count": 7,
   "metadata": {},
   "outputs": [
    {
     "name": "stdout",
     "output_type": "stream",
     "text": [
      "1 3 5 6 8 9 12 17 24 "
     ]
    }
   ],
   "source": [
    "class Btree:\n",
    "    def __init__(self):\n",
    "        self.value=None\n",
    "        self.left=None\n",
    "        self.right=None\n",
    "def add_value(value,root):\n",
    "    if root.value==None:\n",
    "        newnode=Btree()\n",
    "        newnode.value=value\n",
    "        root=newnode\n",
    "        return root\n",
    "    else:\n",
    "        top=root\n",
    "        while top!=None:\n",
    "            if value>top.value:\n",
    "                ptr=top\n",
    "                top=top.right\n",
    "            elif value<top.value:\n",
    "                ptr=top\n",
    "                top=top.left\n",
    "        newnode=Btree()\n",
    "        newnode.value=value\n",
    "        if ptr.value>value:\n",
    "            ptr.left=newnode\n",
    "        elif ptr.value<value:\n",
    "            ptr.right=newnode\n",
    "        root=root\n",
    "        return root\n",
    "root=Btree()\n",
    "values=[5,6,24,8,12,3,17,1,9]\n",
    "for value in values:\n",
    "    root=add_value(value,root)\n",
    "    \n",
    "def inorder(root):\n",
    "    if root!=None:\n",
    "        inorder(root.left)\n",
    "        print('{}'.format(root.value),end=' ')\n",
    "        inorder(root.right)\n",
    "inorder(root)"
   ]
  },
  {
   "cell_type": "code",
   "execution_count": null,
   "metadata": {},
   "outputs": [],
   "source": []
  },
  {
   "cell_type": "code",
   "execution_count": 8,
   "metadata": {},
   "outputs": [],
   "source": [
    "class Queue:\n",
    "    def __init__(self):\n",
    "        self.value=None\n",
    "        self.next=None\n",
    "\n",
    "#给队列添加元素\n",
    "#front是队首，rear是队尾\n",
    "def enqueue(queue,front,rear):\n",
    "    newqueue=Queue()\n",
    "    newqueue.value=queue\n",
    "    if front==None:\n",
    "        front=newqueue\n",
    "        rear=newqueue\n",
    "    else:\n",
    "        rear.next=newqueue\n",
    "        rear=newqueue\n",
    "    return front,rear\n",
    "\n",
    "#从队列中弹出元素，若是空队列，则输出False\n",
    "def dequeue(front):\n",
    "    if front==None:\n",
    "        print('队列已空')\n",
    "        return None,None\n",
    "    else:\n",
    "        value=front\n",
    "        front=front.next\n",
    "        return value,front"
   ]
  },
  {
   "cell_type": "code",
   "execution_count": 9,
   "metadata": {},
   "outputs": [],
   "source": [
    "\n",
    "#front,rear=enqueue(root,front,rear)\n",
    "#print(front,rear)"
   ]
  },
  {
   "cell_type": "code",
   "execution_count": 10,
   "metadata": {},
   "outputs": [],
   "source": [
    "#value,front=dequeue(front)\n",
    "#print(value)\n",
    "#print(front)"
   ]
  },
  {
   "cell_type": "code",
   "execution_count": null,
   "metadata": {},
   "outputs": [],
   "source": []
  },
  {
   "cell_type": "code",
   "execution_count": 15,
   "metadata": {},
   "outputs": [],
   "source": [
    "#层次遍历，ptr是树的当前节点\n",
    "def layerorder(root,front,rear):\n",
    "    #print('已经执行')\n",
    "    print(root.value,end=' ')\n",
    "    #将当前节点的左右节点加入队列\n",
    "    if root.left!=None:\n",
    "        front,rear=enqueue(root.left,front,rear)\n",
    "    if root.right!=None:    \n",
    "        front,rear=enqueue(root.right,front,rear)\n",
    "    #弹出队列\n",
    "    value,front=dequeue(front)\n",
    "    #print(value==False)\n",
    "    #print(value)\n",
    "    if value!=None:\n",
    "        layerorder(value.value,front,rear)\n"
   ]
  },
  {
   "cell_type": "code",
   "execution_count": null,
   "metadata": {},
   "outputs": [],
   "source": []
  },
  {
   "cell_type": "code",
   "execution_count": 16,
   "metadata": {},
   "outputs": [
    {
     "name": "stdout",
     "output_type": "stream",
     "text": [
      "5 3 6 1 24 8 12 9 17 队列已空\n"
     ]
    }
   ],
   "source": [
    "front=None\n",
    "rear=None\n",
    "layerorder(root,front,rear)"
   ]
  },
  {
   "cell_type": "code",
   "execution_count": null,
   "metadata": {},
   "outputs": [],
   "source": []
  },
  {
   "cell_type": "code",
   "execution_count": null,
   "metadata": {},
   "outputs": [],
   "source": []
  },
  {
   "cell_type": "code",
   "execution_count": null,
   "metadata": {},
   "outputs": [],
   "source": []
  },
  {
   "cell_type": "code",
   "execution_count": null,
   "metadata": {},
   "outputs": [],
   "source": []
  },
  {
   "cell_type": "code",
   "execution_count": null,
   "metadata": {},
   "outputs": [],
   "source": []
  },
  {
   "cell_type": "markdown",
   "metadata": {},
   "source": [
    "## 二叉树节点的插入与删除"
   ]
  },
  {
   "cell_type": "markdown",
   "metadata": {},
   "source": [
    "### 二叉树的查找"
   ]
  },
  {
   "cell_type": "code",
   "execution_count": 53,
   "metadata": {},
   "outputs": [],
   "source": [
    "def search(value,root):\n",
    "    while root!=None:\n",
    "        if value==root.value:\n",
    "            return root\n",
    "        elif root.value>value:\n",
    "            root=root.left\n",
    "        elif root.value<value:\n",
    "            root=root.right\n",
    "    print('此二叉树中没有该节点')"
   ]
  },
  {
   "cell_type": "code",
   "execution_count": 63,
   "metadata": {},
   "outputs": [
    {
     "name": "stdout",
     "output_type": "stream",
     "text": [
      "此二叉树中没有该节点\n"
     ]
    }
   ],
   "source": [
    "a=search(11,root)"
   ]
  },
  {
   "cell_type": "code",
   "execution_count": 64,
   "metadata": {},
   "outputs": [
    {
     "data": {
      "text/plain": [
       "True"
      ]
     },
     "execution_count": 64,
     "metadata": {},
     "output_type": "execute_result"
    }
   ],
   "source": []
  },
  {
   "cell_type": "markdown",
   "metadata": {},
   "source": [
    "### 二叉树的插入"
   ]
  },
  {
   "cell_type": "markdown",
   "metadata": {},
   "source": [
    "若树中没有该节点直接插入，若有，则输出该树中已经有了该节点了\n"
   ]
  },
  {
   "cell_type": "code",
   "execution_count": 66,
   "metadata": {},
   "outputs": [
    {
     "name": "stdout",
     "output_type": "stream",
     "text": [
      "请输入数字2\n",
      "此二叉树中没有该节点\n"
     ]
    }
   ],
   "source": [
    "class Btree:\n",
    "    def __init__(self):\n",
    "        self.value=None\n",
    "        self.left=None\n",
    "        self.right=None\n",
    "def search(value,root):\n",
    "    while root!=None:\n",
    "        if value==root.value:\n",
    "            return root\n",
    "        elif root.value>value:\n",
    "            root=root.left\n",
    "        elif root.value<value:\n",
    "            root=root.right\n",
    "    print('此二叉树中没有该节点')\n",
    "        \n",
    "def add_value(value,root):\n",
    "    if root.value==None:\n",
    "        newnode=Btree()\n",
    "        newnode.value=value\n",
    "        root=newnode\n",
    "        return root\n",
    "    else:\n",
    "        top=root\n",
    "        while top!=None:\n",
    "            if value>top.value:\n",
    "                ptr=top\n",
    "                top=top.right\n",
    "            elif value<top.value:\n",
    "                ptr=top\n",
    "                top=top.left\n",
    "        newnode=Btree()\n",
    "        newnode.value=value\n",
    "        if ptr.value>value:\n",
    "            ptr.left=newnode\n",
    "        elif ptr.value<value:\n",
    "            ptr.right=newnode\n",
    "        root=root\n",
    "        return root\n",
    "    \n",
    "root=Btree()\n",
    "values=[5,6,24,8,12,3,17,1,9]\n",
    "for value in values:\n",
    "    root=add_value(value,root)\n",
    "    \n",
    "a=input('请输入数字')\n",
    "a=eval(a)\n",
    "b=search(a,root)\n",
    "if b==None:\n",
    "    root=add_value(a,root)\n",
    "else:\n",
    "    print('该树中已经有该节点了')"
   ]
  },
  {
   "cell_type": "code",
   "execution_count": 68,
   "metadata": {},
   "outputs": [
    {
     "data": {
      "text/plain": [
       "2"
      ]
     },
     "execution_count": 68,
     "metadata": {},
     "output_type": "execute_result"
    }
   ],
   "source": [
    "search(2,root).value"
   ]
  },
  {
   "cell_type": "markdown",
   "metadata": {},
   "source": [
    "### 二叉树的删除"
   ]
  },
  {
   "cell_type": "markdown",
   "metadata": {},
   "source": [
    "若是根节点，则直接删除  \n",
    "若有一颗子树，则用子节点取代父节点  \n",
    "若有两颗子树，则有两种方法：  \n",
    "（1），选择左子树中最大者，取代父节点  \n",
    "（2），选择右子树中最小者，取代父节点"
   ]
  },
  {
   "cell_type": "code",
   "execution_count": null,
   "metadata": {},
   "outputs": [],
   "source": []
  },
  {
   "cell_type": "markdown",
   "metadata": {},
   "source": [
    "## 二叉运算树"
   ]
  },
  {
   "cell_type": "markdown",
   "metadata": {},
   "source": [
    "将一个运算表达式用二叉树的方式存储，满足以下条件，根节点是当前部分优先级别最低的运算符，叶节点是操作数  \n",
    "转换为二叉树之后，中序遍历，就是中序法表达式  \n",
    "后序遍历，就是后序法表达式  \n",
    "前序遍历，就是前序法表达式"
   ]
  },
  {
   "cell_type": "code",
   "execution_count": 73,
   "metadata": {},
   "outputs": [],
   "source": [
    "class Node:\n",
    "    def __init__(self):\n",
    "        self.value=0\n",
    "        self.right_Thread=0\n",
    "        self.left_Thread=0\n",
    "        self.right_Node=None\n",
    "        self.left_Node=None"
   ]
  },
  {
   "cell_type": "code",
   "execution_count": null,
   "metadata": {},
   "outputs": [],
   "source": [
    "#将指定的值加入线索二叉树\n",
    "def add_value(value,rootNode):\n",
    "    "
   ]
  },
  {
   "cell_type": "code",
   "execution_count": null,
   "metadata": {},
   "outputs": [],
   "source": []
  }
 ],
 "metadata": {
  "kernelspec": {
   "display_name": "Python 3",
   "language": "python",
   "name": "python3"
  },
  "language_info": {
   "codemirror_mode": {
    "name": "ipython",
    "version": 3
   },
   "file_extension": ".py",
   "mimetype": "text/x-python",
   "name": "python",
   "nbconvert_exporter": "python",
   "pygments_lexer": "ipython3",
   "version": "3.6.5"
  }
 },
 "nbformat": 4,
 "nbformat_minor": 2
}
